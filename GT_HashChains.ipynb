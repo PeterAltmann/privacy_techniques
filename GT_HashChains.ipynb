{
 "cells": [
  {
   "cell_type": "markdown",
   "metadata": {},
   "source": [
    "# $a \\geq b$ with TTP and hash chains\n",
    "\n",
    "Alice needs to prove her age to be above a given age without revealing her age to Bob. Alice and Bob trust Trent.\n",
    "\n",
    "1. Alice tells Trent the age she has to prove. \n",
    "2. Trent sends a random seed to her and generates a signed proof statement that she can give to Bob. \n",
    "3. Alice hashes her age and passes this to Bob."
   ]
  },
  {
   "cell_type": "code",
   "execution_count": 90,
   "metadata": {},
   "outputs": [
    {
     "name": "stdout",
     "output_type": "stream",
     "text": [
      "f194b8fd48a815e94b61509c30a65e3369a1cebdac024bf9ee01d23ff7bbd3b7\n",
      "410eb93ea2028fed4097da08c3669de9d91d29747cdbb5b8c34d04cb5e93ed7e\n",
      "410eb93ea2028fed4097da08c3669de9d91d29747cdbb5b8c34d04cb5e93ed7e\n"
     ]
    }
   ],
   "source": [
    "from Crypto.Hash import SHA256\n",
    "from Crypto.Util import number\n",
    "\n",
    "alice_age = 19 # Do not show to Bob. Send to Trent.\n",
    "required_age = 18 # Supplied by Bob. Public.\n",
    "\n",
    "# Trend does the following\n",
    "seed = bytes(number.Random.get_random_bytes(64))\n",
    "proof = SHA256.new(data=seed) # Trend should sign this proof with his private key and make it and sig public.\n",
    "hidden_age = SHA256.new(data=seed) # Trend makes this public\n",
    "\n",
    "# Trent does this. Note that if Alice is below Bob's required age, Trent only hands over H(seed)\n",
    "for i in range(1, alice_age - required_age + 1):\n",
    "    proof = SHA256.new(data=bytes(proof.hexdigest(), encoding='utf-8'))\n",
    "\n",
    "print(proof.hexdigest())\n",
    "\n",
    "# Alice gets H(seed) and does this. She sends final value to Bob.\n",
    "for i in range(1, alice_age + 1):\n",
    "    hidden_age = SHA256.new(data=bytes(hidden_age.hexdigest(), encoding='utf-8'))\n",
    "\n",
    "print(hidden_age.hexdigest())\n",
    "\n",
    "# Bob now does the following\n",
    "verified_age = proof\n",
    "for i in range(required_age):\n",
    "    verified_age = SHA256.new(data=bytes(verified_age.hexdigest(), encoding='utf-8'))\n",
    "\n",
    "print(verified_age.hexdigest())"
   ]
  },
  {
   "cell_type": "markdown",
   "metadata": {},
   "source": [
    "The above works because \n",
    "\n",
    "* Alice will get H(seed). She then hashes the seed $m$ times, where $m$ is her age.\n",
    "* Bob will get H(H...H(seed)) and thus cannot reveal Alice age if Alice is below target. \n",
    "* If Alice is below Bob's required age, Bob will get values [H(0), ...,H(n)]\n",
    "* If Alice has same age as Bob requires or above, then Bob and Alice both hash the seed the same number of times. Bob cannot know what $m-n$ and thus cannot know Alice exact age.\n",
    "\n",
    "* ZKP requirements:\n",
    " * Completeness. Alice will always be able to prove to Bob that she is old enough.\n",
    " * Soundness. Alice cannot trick Bob into thinking she is old enough.\n",
    " * Zero-knowledge. Bob has no idea about how old Alice is"
   ]
  },
  {
   "cell_type": "code",
   "execution_count": null,
   "metadata": {},
   "outputs": [],
   "source": []
  }
 ],
 "metadata": {
  "kernelspec": {
   "display_name": "Python 3",
   "language": "python",
   "name": "python3"
  },
  "language_info": {
   "codemirror_mode": {
    "name": "ipython",
    "version": 3
   },
   "file_extension": ".py",
   "mimetype": "text/x-python",
   "name": "python",
   "nbconvert_exporter": "python",
   "pygments_lexer": "ipython3",
   "version": "3.9.1"
  }
 },
 "nbformat": 4,
 "nbformat_minor": 4
}
