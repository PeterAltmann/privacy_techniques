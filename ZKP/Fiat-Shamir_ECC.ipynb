{
 "cells": [
  {
   "cell_type": "markdown",
   "id": "9c4f5c52-0d7a-4cac-b546-1c7bd5deae92",
   "metadata": {},
   "source": [
    "# Fiat–Shamir heuristics with ECC\n",
    "\n",
    "* ASS link: https://asecuritysite.com/zero/go_fiat\n",
    "* The original non-ecc paper 1986 How to prove yourself: https://link.springer.com/content/pdf/10.1007/3-540-47721-7_12.pdf\n",
    "\n",
    "With Fiat–Shamir we can prove that we know a value without actually revealing the orginal value. In the following Bob will prove to Alice that he still knows his password. Bob generates a random number v) and Alices generates a challenge value (c)\n",
    "\n",
    "1. Alice and Bob agree on two EC points $(G,H)$\n",
    "2. Bob takes secret, $x$ and computes $x=\\texttt{H}(x)$\n",
    "3. Bob computes $(xG,xH)$\n",
    "4. Alice generates random challenge $c$ and sends it to Bob\n",
    "5. Bob generates random value $v$ and computes $r=v-cx$\n",
    "6. Bob computes $(vG,vH)$\n",
    "7. Bob sends $(r,vG,vH)$\n",
    "8. Alice checks if $vG=rG+c(xG)$ and if $vH=rH+c(xH)$\n"
   ]
  },
  {
   "cell_type": "code",
   "execution_count": 1,
   "id": "0458d42a-ba6d-4ba6-9408-2a57c0c88981",
   "metadata": {},
   "outputs": [],
   "source": [
    "from ecpy.curves import Curve\n",
    "from Crypto.Util import number\n",
    "from Crypto.Hash import SHA256"
   ]
  },
  {
   "cell_type": "code",
   "execution_count": 2,
   "id": "0c404100-b98f-419d-8898-a9c4757c41be",
   "metadata": {},
   "outputs": [],
   "source": [
    "curve = Curve.get_curve('secp256k1')\n",
    "order = curve.order"
   ]
  },
  {
   "cell_type": "code",
   "execution_count": 4,
   "id": "cefb00bc-2973-4eea-b081-0416a243568f",
   "metadata": {},
   "outputs": [],
   "source": [
    "# Alice and Bob agree on\n",
    "G = curve.generator\n",
    "H = number.getRandomRange(2,order) * G\n",
    "\n",
    "# Bob's parts 2-3\n",
    "x = SHA256.new()\n",
    "x.update(bytes(str(number.getRandomRange(2,order)).encode('utf-8')))\n",
    "x = int(x.hexdigest(),base=16)\n",
    "xG = x*G\n",
    "xH = x*H\n",
    "\n",
    "# Alice parts 4\n",
    "c = number.getRandomRange(2,order)\n",
    "\n",
    "# Bob parts 5-7\n",
    "v = number.getRandomRange(2,order)\n",
    "r = v-c*x % order\n",
    "vG = v*G\n",
    "vH = v*H\n",
    "\n",
    "# Alice gets (r,vG,vH) and does step 8\n",
    "assert vG == r*G+c*xG\n",
    "assert vH == r*H+c*xH"
   ]
  }
 ],
 "metadata": {
  "kernelspec": {
   "display_name": "Python 3 (ipykernel)",
   "language": "python",
   "name": "python3"
  },
  "language_info": {
   "codemirror_mode": {
    "name": "ipython",
    "version": 3
   },
   "file_extension": ".py",
   "mimetype": "text/x-python",
   "name": "python",
   "nbconvert_exporter": "python",
   "pygments_lexer": "ipython3",
   "version": "3.9.7"
  }
 },
 "nbformat": 4,
 "nbformat_minor": 5
}
