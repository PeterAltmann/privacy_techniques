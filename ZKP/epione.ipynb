{
 "cells": [
  {
   "cell_type": "markdown",
   "metadata": {
    "tags": []
   },
   "source": [
    "# The Epione contact tracing protocol"
   ]
  },
  {
   "cell_type": "markdown",
   "metadata": {},
   "source": [
    "asecuritysite [link](https://asecuritysite.com/zero/tracking01)\n",
    "\n",
    "* The [Epione protocol](https://arxiv.org/pdf/2004.13293.pdf) is based on a PSI cardinality proof with PIR using an untrusted server. \n",
    "* Alice and Bob both have sets and after the protocol learn only the cardinality of their joint set intersection\n",
    "* Compared to Apple Google tracker, the Epitone protocol reduces the risk of an actor learning who else is infected (because Bob learns only the intersection cardinality)\n",
    "* Epione addresses the following concerns with existing contract tracing solutions:\n",
    "     1. Exposure source. If tokens are publically released, an actor can compare the public log with a local log and guess which actors were tested positive.\n",
    "     2. Infection status by server. The server should not learn who is infected.\n",
    "     3. Social graph exposure and user tracking. A central actor should not be able to use reported tokens to create social graphs\n",
    "     4. False user claims. A user should not be able to use diagnosis status of other uses for their own benefit\n",
    "* Contact tokens are exchanged using BT and stored in a $\\verb|sent_token_list|$ and $\\verb|received_token_list|$\n",
    "* $\\verb|sent_token_list|$ is shared with Trent (a trusted healthcare provider) if positive diagnosis.\n",
    "* $\\verb|received_token_list|$ is never shared\n",
    "* Trent shares the $\\verb|sent_token_list|$ with an untrusted server."
   ]
  },
  {
   "cell_type": "markdown",
   "metadata": {},
   "source": [
    "Techniques used:\n",
    "1. Everything in the Apple Google COVID tracer\n",
    "2. Private set intersection cardinality proof\n",
    "\n",
    "The protocol can use the following PSI cardinality proof (note that this is not the optimal solution presented in the paper, it is just used to highlight the idea):\n",
    "\n",
    "* Alice and Bob agree on the curve generator $G$\n",
    "* Bob has values $a_i$ and matches these with the curve with $\\mathbf{A} = [a_i G]$\n",
    "* Bob generates $r \\leftarrow \\texttt{rand()}$ and computes $\\mathbf{A_r} = [r a_i G]$\n",
    "* Alice gets $\\mathbf{A_r}$, shuffles the elements into $\\mathbf{A_{rs}}$, generates a $s \\leftarrow \\texttt{rand()}$ and elementwise multiplies $s \\mathbf{A_{rs}}$\n",
    "* Bob gets $s \\mathbf{A_{rs}}$ and computes $r^{-1} \\mod n$ where $n$ is the order of the curve\n",
    "* Bob computes $(r^{-1} \\mod n)s \\mathbf{A_{rs}} = s \\mathbf{A_s} = [s a_i G]$\n",
    "* Alice computes $B = s b_i G$ and sends this to Bob\n",
    "* Bob checks $A \\cap B$, which will give him the total number of elements that intersect without knowing the items that intersect. Bob shares the intersection output but not $A_s$"
   ]
  },
  {
   "cell_type": "code",
   "execution_count": 1,
   "metadata": {},
   "outputs": [],
   "source": [
    "from ecpy.curves import Curve\n",
    "from Crypto.Util import number\n",
    "from Crypto.Hash import SHA256\n",
    "import random\n",
    "import numpy as np\n",
    "import datetime\n",
    "import time\n",
    "from phe import paillier"
   ]
  },
  {
   "cell_type": "code",
   "execution_count": 2,
   "metadata": {},
   "outputs": [],
   "source": [
    "def curvePick(x):\n",
    "    \"\"\"\n",
    "    ['stark256',\n",
    " 'frp256v1',\n",
    " 'secp521r1',\n",
    " 'secp384r1',\n",
    " 'secp256k1',\n",
    " 'secp256r1',\n",
    " 'secp224k1',\n",
    " 'secp224r1',\n",
    " 'secp192k1',\n",
    " 'secp192r1',\n",
    " 'secp160k1',\n",
    " 'secp160r1',\n",
    " 'secp160r2',\n",
    " 'Brainpool-p512t1',\n",
    " 'Brainpool-p512r1',\n",
    " 'Brainpool-p384t1',\n",
    " 'Brainpool-p384r1',\n",
    " 'Brainpool-p320t1',\n",
    " 'Brainpool-p320r1',\n",
    " 'Brainpool-p256r1',\n",
    " 'Brainpool-p256t1',\n",
    " 'Brainpool-p224r1',\n",
    " 'Brainpool-p224t1',\n",
    " 'Brainpool-p192r1',\n",
    " 'Brainpool-p192t1',\n",
    " 'Brainpool-p160r1',\n",
    " 'Brainpool-p160t1',\n",
    " 'NIST-P256',\n",
    " 'NIST-P224',\n",
    " 'NIST-P192',\n",
    " 'Ed448',\n",
    " 'Ed25519',\n",
    " 'Curve448',\n",
    " 'Curve25519']\n",
    "    \"\"\"\n",
    "    curve = Curve.get_curve(Curve.get_curve_names()[x])\n",
    "    return curve\n",
    "\n",
    "def numfy(s):\n",
    "    number = 0\n",
    "    for e in [ord(c) for c in s]:\n",
    "        number = (number * 0x110000) + e\n",
    "    return number\n",
    "\n",
    "def denumfy(number):\n",
    "    l = []\n",
    "    while(number != 0):\n",
    "        l.append(chr(number % 0x110000))\n",
    "        number = number // 0x110000\n",
    "    return ''.join(reversed(l))\n",
    "\n",
    "def generate(s, d, j, i=None):\n",
    "    '''\n",
    "    Input seed from CRNG, day in datetime.date format, timeslot as range, with ith element.\n",
    "    If index is missing, then returns random element in range\n",
    "    Outputs token\n",
    "    '''\n",
    "    if not i == None:\n",
    "        assert max(j) >= i and min(j) <= i, 'index is outside of range'\n",
    "        j = str(j[i]).encode('utf-8')\n",
    "    else:\n",
    "        j = str(random.choice(j)).encode('utf-8')\n",
    "    s = str(s).encode('utf-8')\n",
    "    d = str(int(time.mktime(d.timetuple()))).encode('utf-8')\n",
    "    a = SHA256.new()\n",
    "    a.update(s+d+j)\n",
    "    return a.hexdigest()"
   ]
  },
  {
   "cell_type": "markdown",
   "metadata": {},
   "source": [
    "**Below is a simple demo of the PSI cardinality proof for easier understanding**"
   ]
  },
  {
   "cell_type": "code",
   "execution_count": 11,
   "metadata": {},
   "outputs": [
    {
     "data": {
      "text/plain": [
       "1"
      ]
     },
     "execution_count": 11,
     "metadata": {},
     "output_type": "execute_result"
    }
   ],
   "source": [
    "curve = curvePick(4) # 4 is secp256k1\n",
    "G = curve.generator\n",
    "order = curve.order\n",
    "a = [1, 44, 33, 10]\n",
    "b = [60, 54, 19, 10]\n",
    "\n",
    "assert all(a[i] > 0 for i in range(len(a))), \"Must use positive numbers\"\n",
    "assert all(b[i] > 0 for i in range(len(b))), \"Must use positive numbers\"\n",
    " \n",
    "\n",
    "s = number.getRandomNBitInteger(256)\n",
    "r = number.getRandomNBitInteger(256)\n",
    "\n",
    "raAi = [r * a[i] * G for i in range(len(a))]\n",
    "sraAi = [s * raAi[i] for i in range(len(a))]\n",
    "\n",
    "inv_r = pow(r, -1, order)\n",
    "\n",
    "random.shuffle(sraAi)\n",
    "\n",
    "sAi = [inv_r * sraAi[i] for i in range(len(a))]  \n",
    "sBi = [s * b[i] * G for i in range(len(b))]\n",
    "    \n",
    "len(np.intersect1d([sBi[i].x for i in range(len(a))], [sAi[i].x for i in range(len(a))]))"
   ]
  },
  {
   "cell_type": "markdown",
   "metadata": {},
   "source": [
    "### Actual protocol"
   ]
  },
  {
   "cell_type": "code",
   "execution_count": 17,
   "metadata": {},
   "outputs": [],
   "source": [
    "# The epione server generates a keypair\n",
    "epione_public_key, epione_private_key = paillier.generate_paillier_keypair()\n",
    "\n",
    "## Alice and Bob run into one another\n",
    "# Alice generates a token\n",
    "random.seed(123)\n",
    "seed_alice = random.getrandbits(256)\n",
    "random.seed()\n",
    "date_alice = datetime.date(2020, 12, 25)\n",
    "range_alice = range(144)\n",
    "proxy_alice = 1\n",
    "token_alice = generate(seed_alice, date_alice, range_alice, proxy_alice)\n",
    "\n",
    "# Bob generates a token\n",
    "random.seed(456)\n",
    "seed_bob = random.getrandbits(256)\n",
    "random.seed()\n",
    "date_bob = datetime.date(2020, 12, 25)\n",
    "range_bob = range(144)\n",
    "proxy_bob = 1\n",
    "token_bob = generate(seed_bob, date_bob, range_bob, proxy_bob)\n",
    "\n",
    "# Charlie generates a token\n",
    "random.seed(789)\n",
    "seed_charlie = random.getrandbits(256)\n",
    "random.seed()\n",
    "date_charlie = datetime.date(2020, 12, 25)\n",
    "range_charlie = range(144)\n",
    "proxy_charlie = 1\n",
    "token_charlie = generate(seed_charlie, date_charlie, range_charlie, proxy_charlie)\n",
    "\n",
    "# Tokens are exchanged\n",
    "alice_received_list = [token_bob, token_charlie]\n",
    "bob_received_list = [token_alice, token_charlie]\n",
    "charlie_received_list = [token_alice, token_bob] # use if Charlie should get tested\n",
    "# charlie_received_list = generate(number.getRandomNBitInteger(256), datetime.date.today(), range(144), 1) # use if charlie should not get tested"
   ]
  },
  {
   "cell_type": "code",
   "execution_count": 18,
   "metadata": {},
   "outputs": [],
   "source": [
    "# Alice tests positive and submits her seed with the Epione server public key to Trent the healthcare provider\n",
    "trent_from_alice = epione_public_key.encrypt(123) # use numfy if seed is string\n",
    "\n",
    "# Bob tests positive and submits his seed with the Epione server public key to Trent the healthcare provider\n",
    "trent_from_bob = epione_public_key.encrypt(456)\n",
    "\n",
    "# Trent sends the list of encrypted seeds to Epione\n",
    "epione_from_trent = [trent_from_alice, trent_from_bob]\n",
    "\n",
    "# Epione server now generates all the tokens possible\n",
    "all_tokens = []\n",
    "for i in epione_from_trent:\n",
    "    random.seed(epione_private_key.decrypt(i))\n",
    "    for x in range(14):\n",
    "        all_tokens.append(generate(random.getrandbits(256), datetime.date(2020, 12, 25) - datetime.timedelta(days=x), range(144), 1))\n",
    "    random.seed()\n",
    "\n",
    "# assert len(np.intersect1d(all_tokens, charlie_received_list)) != 0"
   ]
  },
  {
   "cell_type": "code",
   "execution_count": 19,
   "metadata": {},
   "outputs": [
    {
     "name": "stdout",
     "output_type": "stream",
     "text": [
      "Charlie should get tested\n"
     ]
    }
   ],
   "source": [
    "# Charlie and Epione agree on a curve and a generator\n",
    "curve = curvePick(4) # 4 is secp256k1\n",
    "G = curve.generator\n",
    "order = curve.order\n",
    "\n",
    "# Charlie generates random value s and turns his values into numbers\n",
    "s = number.getRandomNBitInteger(256)\n",
    "charlie_received_list_numbers = [numfy(charlie_received_list[i]) for i in range(len(charlie_received_list))]\n",
    "\n",
    "# Epione generates random value r and turns values into numbers\n",
    "r = number.getRandomNBitInteger(256)\n",
    "inv_r = pow(r, -1, order)\n",
    "epione_list_numbers = [numfy(all_tokens[i]) for i in range(len(all_tokens))]\n",
    "r_epione = [r * epione_list_numbers[i] * G for i in range(len(epione_list_numbers))] #sent to Charlie\n",
    "\n",
    "# Charlie now generates his set\n",
    "sr_epione = [s * r_epione[i] for i in range(len(epione_list_numbers))]\n",
    "random.shuffle(sr_epione) #this is sent to sever\n",
    "s_charlie = [s * charlie_received_list_numbers[i] * G for i in range(len(charlie_received_list_numbers))] #this is sent to sever\n",
    "\n",
    "# Epione server now does its part\n",
    "s_epione = [inv_r * sr_epione[i] for i in range(len(sr_epione))]\n",
    "\n",
    "if len(np.intersect1d([s_charlie[i].x for i in range(len(charlie_received_list_numbers))], [s_epione[i].x for i in range(len(s_epione))])) != 0:\n",
    "    print('Charlie should get tested')\n",
    "else:\n",
    "    print('Charlie does not need to get tested')"
   ]
  }
 ],
 "metadata": {
  "kernelspec": {
   "display_name": "Python 3 (ipykernel)",
   "language": "python",
   "name": "python3"
  },
  "language_info": {
   "codemirror_mode": {
    "name": "ipython",
    "version": 3
   },
   "file_extension": ".py",
   "mimetype": "text/x-python",
   "name": "python",
   "nbconvert_exporter": "python",
   "pygments_lexer": "ipython3",
   "version": "3.9.7"
  }
 },
 "nbformat": 4,
 "nbformat_minor": 4
}
