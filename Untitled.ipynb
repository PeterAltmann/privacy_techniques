{
 "cells": [
  {
   "cell_type": "code",
   "execution_count": 1,
   "metadata": {},
   "outputs": [],
   "source": [
    "import numpy as np"
   ]
  },
  {
   "cell_type": "code",
   "execution_count": 2,
   "metadata": {},
   "outputs": [],
   "source": [
    "def str_to_hex(s):\n",
    "    s = s.encode('ASCII')\n",
    "    return hex(int(s.hex(), base=16))\n",
    "\n",
    "def hex_to_str(h):\n",
    "    h = h[2:]\n",
    "    b = bytes.fromhex(h)\n",
    "    return b.decode(\"ASCII\")\n",
    "\n",
    "def hex_xor(a,b):\n",
    "    a = int(a,base=16)\n",
    "    b = int(b,base=16)\n",
    "    return hex(a ^ b)"
   ]
  },
  {
   "cell_type": "code",
   "execution_count": 3,
   "metadata": {},
   "outputs": [],
   "source": [
    "potential_codes = []\n",
    "for i in range(1000000):\n",
    "    potential_codes.append(str(i).zfill(6))\n",
    "    \n",
    "potential_plaintexts = []\n",
    "for i in potential_codes:\n",
    "    m = 'use_following_deactivation_code_' + i + '_if_you_change_your_mind'\n",
    "    potential_plaintexts.append(str_to_hex(m))\n",
    "    \n",
    "potential_m = []\n",
    "for i in potential_plaintexts:\n",
    "    potential_m.append(int(i,base=16))"
   ]
  },
  {
   "cell_type": "code",
   "execution_count": 16,
   "metadata": {},
   "outputs": [
    {
     "data": {
      "text/plain": [
       "2024025224821241026153759479207307192795362635491362360337999993879135909731134008910058467054581751102022374700476980033386309064609692377133855476908669772545707528487840641740386226124346473136237101792687262582894272759144358169272336408540004233017329697162630762336792239617273386527086196768762812892000587924471712080064790647025239869266977157366080712268090292763027468308055982574860788844383613505836206679331483917972703123400993940365838024620037760469976039419867702177513332630025210259701095683429762440379730483060471024409948434531081927107889570598083220074947404117793390968995397095785784120502"
      ]
     },
     "execution_count": 16,
     "metadata": {},
     "output_type": "execute_result"
    }
   ],
   "source": [
    "f = open(\"ciphertext\", \"rb\")\n",
    "target = f.read()\n",
    "target = int(target.hex(), base=16)\n",
    "target"
   ]
  },
  {
   "cell_type": "code",
   "execution_count": 5,
   "metadata": {},
   "outputs": [],
   "source": [
    "e = 65537\n",
    "n = 26026706612683261024796300269681729836418931330223832324920708521091980454728310140744481872286138536487369665428882209678326925736802821138830975321014411393569992395045301726565096865908653286495087652533661656776685413724768420524017747919711654433526908952973673630377169002755499235948668937918155196696072169416361437917599762591041799023929360674929109119601202853847794186279199500651579360648385696237931587752140451505994926226851804000605783869523348439077098800305053131652031743053978480601365334499119560676821455446463350082195050628961435669598461900196342517585432742965726276191913715745669673144843"
   ]
  },
  {
   "cell_type": "code",
   "execution_count": 6,
   "metadata": {},
   "outputs": [
    {
     "name": "stdout",
     "output_type": "stream",
     "text": [
      "93862849834008630348678249853784102917674992640946139214737680236176300153743634716419933267722525912001588376410389652643861272263438088260689686116\n",
      "CPU times: user 1min 23s, sys: 761 ms, total: 1min 24s\n",
      "Wall time: 1min 26s\n"
     ]
    }
   ],
   "source": [
    "%%time\n",
    "for m in potential_m:\n",
    "    if pow(m,e,n) == target:\n",
    "        print(m)\n",
    "        break"
   ]
  },
  {
   "cell_type": "code",
   "execution_count": 7,
   "metadata": {},
   "outputs": [
    {
     "data": {
      "text/plain": [
       "'0x7573655f666f6c6c6f77696e675f646561637469766174696f6e5f636f64655f3436313332395f69665f796f755f6368616e67655f796f75725f6d696e64'"
      ]
     },
     "execution_count": 7,
     "metadata": {},
     "output_type": "execute_result"
    }
   ],
   "source": [
    "hex(93862849834008630348678249853784102917674992640946139214737680236176300153743634716419933267722525912001588376410389652643861272263438088260689686116)"
   ]
  },
  {
   "cell_type": "code",
   "execution_count": 9,
   "metadata": {},
   "outputs": [
    {
     "data": {
      "text/plain": [
       "'use_following_deactivation_code_461329_if_you_change_your_mind'"
      ]
     },
     "execution_count": 9,
     "metadata": {},
     "output_type": "execute_result"
    }
   ],
   "source": [
    "hex_to_str('0x7573655f666f6c6c6f77696e675f646561637469766174696f6e5f636f64655f3436313332395f69665f796f755f6368616e67655f796f75725f6d696e64')"
   ]
  },
  {
   "cell_type": "code",
   "execution_count": 10,
   "metadata": {},
   "outputs": [
    {
     "data": {
      "text/plain": [
       "'0x7573655f666f6c6c6f77696e675f646561637469766174696f6e5f636f64655f3436313332395f69665f796f755f6368616e67655f796f75725f6d696e64'"
      ]
     },
     "execution_count": 10,
     "metadata": {},
     "output_type": "execute_result"
    }
   ],
   "source": [
    "str_to_hex('use_following_deactivation_code_461329_if_you_change_your_mind')"
   ]
  },
  {
   "cell_type": "code",
   "execution_count": 11,
   "metadata": {},
   "outputs": [
    {
     "data": {
      "text/plain": [
       "93862849834008630348678249853784102917674992640946139214737680236176300153743634716419933267722525912001588376410389652643861272263438088260689686116"
      ]
     },
     "execution_count": 11,
     "metadata": {},
     "output_type": "execute_result"
    }
   ],
   "source": [
    "int('0x7573655f666f6c6c6f77696e675f646561637469766174696f6e5f636f64655f3436313332395f69665f796f755f6368616e67655f796f75725f6d696e64', base=16)"
   ]
  },
  {
   "cell_type": "code",
   "execution_count": 17,
   "metadata": {},
   "outputs": [
    {
     "data": {
      "text/plain": [
       "True"
      ]
     },
     "execution_count": 17,
     "metadata": {},
     "output_type": "execute_result"
    }
   ],
   "source": [
    "target == pow(93862849834008630348678249853784102917674992640946139214737680236176300153743634716419933267722525912001588376410389652643861272263438088260689686116, e,n)"
   ]
  },
  {
   "cell_type": "code",
   "execution_count": 15,
   "metadata": {},
   "outputs": [
    {
     "ename": "TypeError",
     "evalue": "'bytes' object cannot be interpreted as an integer",
     "output_type": "error",
     "traceback": [
      "\u001b[0;31m---------------------------------------------------------------------------\u001b[0m",
      "\u001b[0;31mTypeError\u001b[0m                                 Traceback (most recent call last)",
      "\u001b[0;32m<ipython-input-15-4aca5efc8b83>\u001b[0m in \u001b[0;36m<module>\u001b[0;34m\u001b[0m\n\u001b[1;32m      1\u001b[0m \u001b[0mf\u001b[0m \u001b[0;34m=\u001b[0m \u001b[0mopen\u001b[0m\u001b[0;34m(\u001b[0m\u001b[0;34m\"ciphertext\"\u001b[0m\u001b[0;34m,\u001b[0m \u001b[0;34m\"rb\"\u001b[0m\u001b[0;34m)\u001b[0m\u001b[0;34m\u001b[0m\u001b[0;34m\u001b[0m\u001b[0m\n\u001b[0;32m----> 2\u001b[0;31m \u001b[0mhex\u001b[0m\u001b[0;34m(\u001b[0m\u001b[0mf\u001b[0m\u001b[0;34m.\u001b[0m\u001b[0mread\u001b[0m\u001b[0;34m(\u001b[0m\u001b[0;34m)\u001b[0m\u001b[0;34m)\u001b[0m\u001b[0;34m\u001b[0m\u001b[0;34m\u001b[0m\u001b[0m\n\u001b[0m",
      "\u001b[0;31mTypeError\u001b[0m: 'bytes' object cannot be interpreted as an integer"
     ]
    }
   ],
   "source": [
    "f = open(\"ciphertext\", \"rb\")\n",
    "hex(f.read())"
   ]
  },
  {
   "cell_type": "code",
   "execution_count": null,
   "metadata": {},
   "outputs": [],
   "source": []
  }
 ],
 "metadata": {
  "kernelspec": {
   "display_name": "Python 3",
   "language": "python",
   "name": "python3"
  },
  "language_info": {
   "codemirror_mode": {
    "name": "ipython",
    "version": 3
   },
   "file_extension": ".py",
   "mimetype": "text/x-python",
   "name": "python",
   "nbconvert_exporter": "python",
   "pygments_lexer": "ipython3",
   "version": "3.9.1"
  }
 },
 "nbformat": 4,
 "nbformat_minor": 4
}
