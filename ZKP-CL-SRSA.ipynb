{
 "cells": [
  {
   "cell_type": "markdown",
   "id": "23696bfc-4a42-47c5-b293-b49767df400b",
   "metadata": {
    "tags": []
   },
   "source": [
    "# How the Anoncred format handles selective disclosure"
   ]
  },
  {
   "cell_type": "markdown",
   "id": "8451e63d-0a95-4329-9c2c-5e1692a8d7d7",
   "metadata": {},
   "source": [
    "## Introduction \n",
    "This text is aimed at those who seek to understand how the ZKP-CL attestation format (Anoncreds) enables a holder to select which attributes to reveal to a verifier. This text focuses only on the cryptographic protection of attribute disclosures. Possible linking via data or communication analysis is a different matter.\n",
    "\n",
    "Selective disclosure and the Anoncred format requires a signature scheme that supports signing multiple messages with a single signature. The Camenisch-Lysyanskaya (CL) signature scheme is a multi message capable signature scheme that was developed in a series of papers ([CL01](https://eprint.iacr.org/2001/019.pdf), [CL02](https://cs.brown.edu/people/alysyans/papers/camlys02.pdf), [CL03](http://cs.brown.edu/people/alysyans/papers/camlys02b.pdf), [CL04](https://www.iacr.org/archive/crypto2004/31520055/cl04.pdf)). To understand CL signatures, it is important to understand both the [Discrete Log Problem](https://www.doc.ic.ac.uk/~mrh/330tutor/ch06s02.html#:~:text=The%20discrete%20logarithm%20problem%20is,logarithms%20depends%20on%20the%20groups.) and how [commitment schemes](https://en.wikipedia.org/wiki/Commitment_scheme) work.\n",
    "\n",
    "The example herein is developed using mainly [CL01](https://eprint.iacr.org/2001/019.pdf). As such, the example differs from the way Anoncreds v 0.7 handles selective disclosure (cf. section 4.7.4 in Lodder, Zundel, and Khovratovich, 2019). To simplify the illustration of the selective disclosure mechanism, several steps outlined in 4.7.4 are missing. Specifically, the example below:\n",
    "\n",
    "* does not use a nonce\n",
    "* assumes that all attributes exist in a single attestation\n",
    "* ignores the setup of the non interactive parts of the proof\n",
    "* only considers the case where the attribute is fully disclosed (as opposed to disclosing statements about the attribute value, which Anoncreds is capable of)\n",
    "* uses a simpler proof verification as a consequence of the points above"
   ]
  },
  {
   "cell_type": "markdown",
   "id": "2335499c-ad20-44bf-912b-5b937c4d64e6",
   "metadata": {},
   "source": [
    "## Strong RSA based CL signatures\n",
    "\n",
    "The CL signatures used in the early Anoncred format were based on the strong RSA assumption (cf. [Wiki on SRSA](https://en.wikipedia.org/wiki/Strong_RSA_assumption)). The actors and their interactions are as follows ([source](https://www.csc.kth.se/~buc/PPC/Slides/jan.pdf)):\n",
    "\n",
    "* An attestation contains $L$ attributes represented as $m_0,\\ldots,m_{L-1}$\n",
    "* An issuer signs a block of messages\n",
    "* The holder presents the messages, or a subset thereof, to a verfier together with the signature\n",
    "* The verifier checks the messages and the signature"
   ]
  },
  {
   "cell_type": "markdown",
   "id": "16dbc946-2cfd-4445-baba-0e3e92319cea",
   "metadata": {},
   "source": [
    "Steps:\n",
    "\n",
    "* Generate $n=pq$\n",
    "* $R_0, \\ldots, R_{L-1}, S, Z \\in \\mathbf{QR}_n$ (ie., generates $L+2$ random numbers from a [quadratic residue](https://en.wikipedia.org/wiki/Quadratic_residue) modulo $n$)\n",
    "* Public key will be $(n,R_0, \\ldots, R_{L-1}, S, Z)$ \n",
    "* Secret key is $p$\n",
    "* Message space is $\\{(m_0, \\ldots, m_{L-1}): m_i \\in \\pm \\{0,1\\}^{l_m}\\}$\n",
    "* Signing algorithm: on input $(m_0, \\ldots, m_{L-1})$ chose a random prime $e>l_m + 2$ and a random number $v$ of length $l_v = l_n + l_m + l_r$ where $l_r$ is a security parameter\n",
    "* Compute the value $A$ s.t. \n",
    "\n",
    "\\begin{align}\n",
    "  A = \\Bigg(\\frac{Z}{R_0^{m_0} \\cdot \\ldots \\cdot R_{L-1}^{m_{L-1}} \\cdot S^v}\\Bigg)^{\\frac{1}{e}} \\pmod n\n",
    "\\end{align}\n",
    "\n",
    "* The signature on the message $(m_0, \\ldots, m_{L-1})$ consists of $(e,A,v)$\n",
    "\n",
    "Verification of the signature on the message is done through:\n",
    "\n",
    "* $Z \\equiv A^e \\cdot R_0^{m_0} \\cdot \\ldots \\cdot R_{L-1}^{m_{L-1}} \\cdot S^v \\pmod n$"
   ]
  },
  {
   "cell_type": "markdown",
   "id": "cc97aea2-7e90-453d-b2ff-cff2e99c9379",
   "metadata": {
    "tags": []
   },
   "source": [
    "## Selective disclosure with CL signatures\n",
    "\n",
    "The holder can selectively disclose a message by:\n",
    "\n",
    "1. sending $m_i$ to the verifier, who computes $(R_i^{m_i}) \\pmod n$\n",
    "2. compute $(R_i^{m_i}) \\pmod n$, which is the commitment of $m_i$ and sent the commitment to he verifier\n",
    "\n",
    "The holder can send over the messages they wish to fully disclose, and the commitment for the messages they wish to keep secret."
   ]
  },
  {
   "cell_type": "code",
   "execution_count": 1,
   "id": "d642aa91-1d43-430a-9cbc-781da63597ae",
   "metadata": {
    "tags": []
   },
   "outputs": [],
   "source": [
    "from Crypto.Util import number"
   ]
  },
  {
   "cell_type": "code",
   "execution_count": 2,
   "id": "0ddcf3ef-ad2d-4286-892e-22631e3a04e2",
   "metadata": {},
   "outputs": [
    {
     "name": "stdout",
     "output_type": "stream",
     "text": [
      "Public key is:\n",
      "n = 8702221940308231207\n",
      "(R_0, R_1) = (4389054633200036254, 7817933546012456372)\n",
      "S = 3145382326342893839\n",
      "Z = 1229536015517545026\n",
      "\n",
      "Private key is: (3746994661, 2322453787)\n",
      "\n",
      "Message (m_0,m_1) is (5246371423628340082, 5889522426947138268) \n",
      "Signature on (m_0,m_1) is: e = 11710050195370459463, s = 4005833718575318972, v = 120376054328941101764546907692512386001\n",
      "\n",
      "RHS is the same as LHS: True\n"
     ]
    }
   ],
   "source": [
    "# In this example we use two messages\n",
    "\n",
    "# For demo purposes to make print more readable\n",
    "p = number.getPrime(32)\n",
    "q = number.getPrime(32)\n",
    "\n",
    "# p = number.getStrongPrime(512)\n",
    "# q = number.getStrongPrime(512)\n",
    "\n",
    "# The public parts\n",
    "n = p*q\n",
    "R_0 = pow(number.getRandomRange(2, n), 2, n)\n",
    "R_1 = pow(number.getRandomRange(2, n), 2, n)\n",
    "S = pow(number.getRandomRange(2, n), 2, n)\n",
    "Z = pow(number.getRandomRange(2, n), 2, n)\n",
    "\n",
    "# The two messages\n",
    "m_0 = number.getRandomRange(2, n)\n",
    "m_1 = number.getRandomRange(2, n)\n",
    "\n",
    "# The signature related parts\n",
    "e = number.getPrime(m_0.bit_length() + 1) # Part of signature\n",
    "e_inv = pow(e, -1, (p-1)*(q-1))\n",
    "v = number.getRandomNBitInteger(m_0.bit_length() + n.bit_length() + 1) # Part of signature\n",
    "\n",
    "commitment_vector = pow(R_0, m_0, n) * pow(R_1, m_1, n) * pow(S, v, n)\n",
    "commitment_vector_inv = pow(commitment_vector, -1, n)\n",
    "\n",
    "A = pow((Z * commitment_vector_inv) % n, e_inv, n) # Part of signature\n",
    "\n",
    "print(f'Public key is:\\nn = {n}\\n(R_0, R_1) = {(R_0, R_1)}\\nS = {S}\\nZ = {Z}')\n",
    "print(f'\\nPrivate key is: {(p,q)}')\n",
    "print(f'\\nMessage (m_0,m_1) is ({m_0}, {m_1}) \\nSignature on (m_0,m_1) is: e = {e}, s = {A}, v = {v}')\n",
    "\n",
    "print('\\nRHS is the same as LHS:', (pow(A, e, n) * commitment_vector) % n == Z)"
   ]
  },
  {
   "cell_type": "markdown",
   "id": "7a8202c6-acdb-4663-a104-10537733854d",
   "metadata": {},
   "source": [
    "## Summary and concluding thoughts\n",
    "\n",
    "As aforementioned, the example above illustrates selective disclosure using only fully disclosed attributes. Anoncred is capable of more advanced disclosure types, but these are more complex and not strictly necessary to show in order to provide a basic understanding of how Anoncred achieves selective disclosure.\n",
    "\n",
    "**What Anoncred does** \n",
    "\n",
    "* Anoncred supports selective disclosure of various types (above the only one demonstrated was the fully revealed type of disclosure)\n",
    "    * Fully hidden: This is a ZKP of knowledge, ie., the only thing revealed about the attribute is that the holder knows the value.\n",
    "    * Linked: The holder reveals that two attributes have the same value\n",
    "    * Partially disclosed: The holder reveals some predicate about an attribute value (Anoncreds relies on Bulletproofs)\n",
    "    * Fully revealed: The attribute value is shared\n",
    "* the issuer returns a partially signed attestation (using a blind signature scheme) and it is the holder that completes the signature. Consequently, the issuer does not know the final signature value.\n",
    "* Provides very high privacy and user control. A user is in absolute and sole control over their identity related data.\n",
    "* Works even in adversarial environments with colluding actors.\n",
    "\n",
    "**How Anoncred does it**\n",
    "\n",
    "* BLINDING: Holder blinded attributes are one of three types of attributes in Anoncred\n",
    "* ANTI-CORRELATION: Anoncred supports both issuer unlinkability (a presentation cannot be linked to a specific credential issuance) and verifier unlinkability (two presentations cannot be linked to each other).\n",
    "* BINDING: Mainly through the use of a blinded attribute\n",
    "* ZKP: Used extensively but not shown herein.\n",
    "* GROUPING LOGIC: A bit commitment vector.\n",
    "\n",
    "**Potential concerns**\n",
    "\n",
    "1. Complex.\n",
    "2. Not a standard."
   ]
  }
 ],
 "metadata": {
  "kernelspec": {
   "display_name": "Python 3 (ipykernel)",
   "language": "python",
   "name": "python3"
  },
  "language_info": {
   "codemirror_mode": {
    "name": "ipython",
    "version": 3
   },
   "file_extension": ".py",
   "mimetype": "text/x-python",
   "name": "python",
   "nbconvert_exporter": "python",
   "pygments_lexer": "ipython3",
   "version": "3.9.7"
  }
 },
 "nbformat": 4,
 "nbformat_minor": 5
}
