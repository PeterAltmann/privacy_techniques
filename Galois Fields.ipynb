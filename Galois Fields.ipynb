{
 "cells": [
  {
   "cell_type": "markdown",
   "metadata": {},
   "source": [
    "# Galois Feilds\n",
    "\n",
    "Sources list\n",
    "\n",
    "* [Irreducable polynomials](http://abstract.ups.edu/aata/section-irreducible-poly.html)\n",
    "* [Factor table for polynomials in GF(2)](https://www.ece.unb.ca/tervo/ece4253/polytable.shtml)\n",
    "* [Galois Fields in cryptography](https://sites.math.washington.edu/~morrow/336_12/papers/juan.pdf)"
   ]
  },
  {
   "cell_type": "markdown",
   "metadata": {},
   "source": [
    "## Modulo 2 arithmetics\n",
    "\n",
    "[Source](https://www.csus.edu/indiv/p/pangj/166/f/d8/5_Modulo%202%20Arithmetic.pdf)\n",
    "\n",
    "Modulo 2 arithmetic is performed digit by digit on binary numbers. Each digit is considered independently\n",
    "from its neighbours. Numbers are not carried or borrowed.\n",
    "\n",
    "### Additon\n",
    "$0\\pm0=0; \\quad 0 \\pm 1 = 1; \\quad 1 \\pm 0 = 1; \\quad 1 \\pm 1 = 0$\n",
    "\n",
    "### Multiplication\n",
    "\n",
    "$\n",
    "\\verb+    1011+ \\\\\n",
    "\\verb+    0101+ \\\\\n",
    "\\verb+   1011+ \\\\\n",
    "\\verb+  0000+ \\\\\n",
    "\\verb+ 1011+ \\\\\n",
    "\\verb+0000+ \\\\\n",
    "\\verb+0100111+\n",
    "$\n",
    "\n",
    "### Division\n",
    "Modulo 2 division can be performed in a manner similar to arithmetic long division. Subtract the denominator (the bottom number) from the leading parts of the enumerator (the top number). Proceed along the enumerator until its end is reached. Remember that we are using modulo 2 subtraction. Note that $\\verb+X/Y = Y/X+$. See also [top row](https://math.stackexchange.com/questions/682301/modulo-2-binary-division-xor-not-subtracting-method). For example, we can divide 100100110 by 10011 as follows:\n",
    "\n",
    "$\n",
    "\\verb=           10001 remainder 101=\\\\\n",
    "\\verb=10011  100100110=\\\\\n",
    "\\verb=       10011=\\\\\n",
    "\\verb=           10110=\\\\\n",
    "\\verb=           10011=\\\\\n",
    "\\verb=             101=\n",
    "$\n",
    "\n",
    "* Note that 1 = -1 mod 2.\n",
    "* Just shift the top row by the leading bit in the divisor."
   ]
  },
  {
   "cell_type": "markdown",
   "metadata": {},
   "source": [
    "## Addition, multiplication and division in Galois Fields GF($2^m$)\n",
    "\n",
    "A finite field or Galois field (GF) has a finite number of elements, and has an order which is equal to a prime number (GF(p)) or to the power of a prime number (GF($p^n$)). For example GF($2^n$) has $2^n$ elements, and its elements are known as binary polynomals (where the co-efficients of the polynomial factors either are either zero or one values. If $n$ is four, we have 16 output values. GF($p$) - the Galois field of $p$ - is also identified as $\\mathbb{F}_p$, and where we perform arithmetic operations modulo of a prime ($p$) ([link](https://asecuritysite.com/encryption/finite)). With GF($2$) we have modulo 2 operations. For the division, we need to field to be defined with an irreducible polynomial ([link](https://asecuritysite.com/encryption/gf2)).\n",
    "\n",
    "A polynomial $a_nx^n + a_{n-1}x^{n-1} + \\ldots + a_1x + a_0$ where $a_n \\in \\{0,1\\}$ can be represented as a binary number modulo $2^n$.\n",
    "\n",
    "$\\texttt{1011}$ represents $x^3+x+1$\n",
    "\n",
    "$\\texttt{1100} + \\texttt{1010} = \\texttt{0110}$ using [modulo 2 addition](https://www.csus.edu/indiv/p/pangj/166/f/d8/5_Modulo%202%20Arithmetic.pdf), i.e., bitwise XOR, represents $(x^3 + x)(x^3+x^2) = x^2 + x$\n",
    "\n",
    "Multiplication and division can end up with a power greater than the field, so you need to divide the output value by an irreducible polynomial that produces the same order as the field."
   ]
  },
  {
   "cell_type": "markdown",
   "metadata": {},
   "source": [
    "### Primitives of different fields\n",
    "\n",
    "[List of primitives found here](https://www.partow.net/programming/polynomials/index.html)\n",
    "\n"
   ]
  },
  {
   "cell_type": "markdown",
   "metadata": {},
   "source": [
    "### AES example\n",
    "\n",
    "AES uses a finite field GF($2^8$). As such we operate on 8 bits in the form $b_7 b_6 b_5 b_4 b_3 b_2 b_1 b_0$. The irreducible polynomial is $x^8+x^4 + x^3 +x +1$ ([read here to understand why](https://crypto.stackexchange.com/questions/51848/why-is-x8-x4-x3-x-1-used-in-aess-rcon)).\n",
    "\n",
    "Examples with GF(3)\n",
    "\n",
    "$\n",
    "\\verb/111 + 011 = 100/\\\\\n",
    "\\verb/111 × 011 = 111 + 1110 + 00000 = 1001/\n",
    "$"
   ]
  },
  {
   "cell_type": "markdown",
   "metadata": {},
   "source": [
    "## On Finite fields \n",
    "\n",
    "[Medium article on GF](https://medium.com/loopring-protocol/learning-cryptography-finite-fields-ced3574a53fe)\n",
    "\n",
    "A finite field has the following properties:\n",
    "\n",
    "* Closed under any operation\n",
    "* Associative $ab(c) = a(bc)$\n",
    "* Identity element exists\n",
    "* Every element has an inverse\n",
    "* Commutative $ab = ba$\n",
    "\n",
    "The most crucial property of a finite field is that it has $p^m$ elements where $p$ is a prime and $m$ is an integer. A finite field of 11 elements can be written as GF($11^1$). A finite field of 256 elements can be written as GF($2^8$)\n",
    "\n",
    "When $m=1$ we get prime fields. When $m > 1$ we have extension fields.\n",
    "\n",
    "### Additive operation\n",
    "GF($5^1$) = {0,1,2,3,4}\n",
    "\n",
    "$\n",
    "\\verb-(3 + 4) mod 5 = 2-\\\\\n",
    "\\verb-(1 + 4) mod 5 = 0-\\\\\n",
    "\\verb-(1 + 2) mod 5 = 3-\\\\\n",
    "\\verb+(4 - 0) mod 5 = 4+\\\\\n",
    "\\verb+(4 - 2) mod 5 = 2+\\\\\n",
    "\\verb+(3 - 0) mod 5 = 1+\n",
    "$\n",
    "\n",
    "### Multiplicative operation\n",
    "$ \n",
    "\\verb+(0 * 4) mod 5 = 0+\\\\\n",
    "\\verb+(2 * 4) mod 5 = 3+\\\\\n",
    "\\verb+(3 * 4) mod 5 = 2+\\\\\n",
    "\\verb+(4 * 4) mod 5 = 1+\\\\\n",
    "\\verb+(3 * 2) mod 5 = 1+\\\\\n",
    "\\verb+(2 * 3) mod 5 = 1+\\\\\n",
    "\\verb+(1 * 1) mod 5 = 1+\\\\\n",
    "\\verb+(0 * ?) mod 5 = 1 // this doesn’t exist!\n",
    "GCD(0, 5) = undefined!+\n",
    "$"
   ]
  },
  {
   "cell_type": "markdown",
   "metadata": {},
   "source": [
    "### Extension fields\n",
    "\n",
    "When $m > 1$, we are dealing with polynomial elements.\n",
    "\n",
    "GF($2^m$) will take the form $a_{m-1}x^{m-1}+ \\ldots + a_1x + a_o$\n",
    "\n",
    "The $p$ tells you the coefficient modulus. The $m$ the number of elements you will have, i.e., the polynomial degree - 1.\n",
    "\n",
    "GF($2^3$) gives $\\verb+{000, 001, 010, 011, 100, 101, 110, 111}+$"
   ]
  },
  {
   "cell_type": "code",
   "execution_count": null,
   "metadata": {},
   "outputs": [],
   "source": []
  }
 ],
 "metadata": {
  "kernelspec": {
   "display_name": "Python 3",
   "language": "python",
   "name": "python3"
  },
  "language_info": {
   "codemirror_mode": {
    "name": "ipython",
    "version": 3
   },
   "file_extension": ".py",
   "mimetype": "text/x-python",
   "name": "python",
   "nbconvert_exporter": "python",
   "pygments_lexer": "ipython3",
   "version": "3.9.1"
  }
 },
 "nbformat": 4,
 "nbformat_minor": 4
}
