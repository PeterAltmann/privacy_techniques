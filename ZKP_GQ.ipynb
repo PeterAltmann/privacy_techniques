{
 "cells": [
  {
   "cell_type": "markdown",
   "metadata": {},
   "source": [
    "# GQ identification scheme\n",
    "\n",
    "Full article that the below text is based on is available [here](https://link.springer.com/content/pdf/10.1007/3-540-45708-9_11.pdf).\n",
    "\n",
    "The Guillou-Quisquater (GQ) identification scheme was defined in 1988 [(1)](https://link.springer.com/content/pdf/10.1007/0-387-34799-2_16.pdf) and supports a ZKP method. \n",
    "\n",
    "* The prover (Peggy) has a proving public key of $(N,e,X)$ where $N$ is the modulus, $e$ is the exponent, and $X=x^e \\mod N)$. \n",
    "* $x$ is the secret value that the prover (Peggy) must prove $(x \\in \\mathbb{Z}^*_N)$. \n",
    "* After Peggy generates a public proving key, she will then be challenged by Victor to produce the correct result.\n",
    "\n",
    "In the following we define a secret value $(x)$, an exponent $(e)$ and a modulus value $(N)$\n",
    "\n",
    "Note: We are using a small prime number and a small value of $x$ here in order to illustrate the process. In real life the prime number would have at least 2,048 bits, and the random value would be based on the 256-bit hashed value of the secret.\n",
    "\n",
    "Note: $x$ and also $y$ must be relative prime to $N$, and where they must not share any factors. We must thus check that $x$ and $y$ do not have a common factor with $N$. We normally do this be determining the greatest common divisor (GCD), and if greater than 1, we will fail the value.\n",
    "\n",
    "$\n",
    "X \\equiv x^e \\mod N \\\\\n",
    "Y \\equiv y^e \\mod N \\\\\n",
    "Z \\equiv yx^c \\mod N \\\\\n",
    "YX^c \\equiv X^e \\mod N \\\\\n",
    "YX^c = y^e(x^e)^c = y^ex^{ec} \\\\\n",
    "Z^e = (yx^c)^e = y^ex^{ec}\n",
    "$"
   ]
  },
  {
   "cell_type": "code",
   "execution_count": 1,
   "metadata": {},
   "outputs": [],
   "source": [
    "from Crypto.Util import number"
   ]
  },
  {
   "cell_type": "code",
   "execution_count": 2,
   "metadata": {},
   "outputs": [
    {
     "name": "stdout",
     "output_type": "stream",
     "text": [
      "Peggy knows value of x\n"
     ]
    }
   ],
   "source": [
    "# Peggy generates \n",
    "N = number.getPrime(512) # public\n",
    "x = number.getRandomNBitInteger(16) # known secret to prove\n",
    "e = number.getRandomNBitInteger(4) # public\n",
    "y = number.getRandomNBitInteger(16) # random, private\n",
    "\n",
    "# Peggy computes \n",
    "X = pow(x,e,N) # Part of public key\n",
    "Y = pow(y,e,N) # Sent to Victor\n",
    "\n",
    "assert (number.GCD(X, N) == 1) == (number.GCD(Y, N) == 1), \"X and Y cannot share factors with N\"\n",
    "\n",
    "# Victor \n",
    "c = number.getRandomNBitInteger(32) # random challenge sent to Peggy\n",
    "\n",
    "# Peggy\n",
    "Z = y * pow(x, c, N) % N # Sent to Victor\n",
    "\n",
    "# Victor\n",
    "val1 = Y * pow(X, c, N) % N\n",
    "val2 = pow(Z,e,N)\n",
    "\n",
    "print(\"Peggy knows value of x\") if val1 == val2 else print(\"Peggy did not prove knowledge of x\")"
   ]
  },
  {
   "cell_type": "code",
   "execution_count": null,
   "metadata": {
    "jupyter": {
     "source_hidden": true
    },
    "tags": []
   },
   "outputs": [],
   "source": [
    "# Peggy generates \n",
    "N = number.getPrime(512) # public\n",
    "x = number.getRandomNBitInteger(16) # known secret to prove\n",
    "e = number.getRandomNBitInteger(4) # public\n",
    "y = number.getRandomNBitInteger(16) # random, private\n",
    "\n",
    "# Peggy computes \n",
    "X = pow(x,e,N) # Part of public key\n",
    "Y = pow(y,e,N) # Sent to Victor\n",
    "\n",
    "assert (number.GCD(X, N) == 1) == (number.GCD(Y, N) == 1), \"X and Y cannot share factors with N\"\n",
    "\n",
    "# Victor \n",
    "c = number.getRandomNBitInteger(32) # random challenge sent to Peggy\n",
    "\n",
    "# Peggy\n",
    "Z = pow(y * x, c, N) # Sent to Victor\n",
    "\n",
    "# Victor\n",
    "val1 = pow(X*Y, c, N)\n",
    "val2 = pow(Z,e,N)\n",
    "\n",
    "print(\"Peggy knows value of x\") if val1 == val2 else print(\"Peggy did not prove knowledge of x\")"
   ]
  },
  {
   "cell_type": "code",
   "execution_count": null,
   "metadata": {},
   "outputs": [],
   "source": []
  }
 ],
 "metadata": {
  "kernelspec": {
   "display_name": "Python 3",
   "language": "python",
   "name": "python3"
  },
  "language_info": {
   "codemirror_mode": {
    "name": "ipython",
    "version": 3
   },
   "file_extension": ".py",
   "mimetype": "text/x-python",
   "name": "python",
   "nbconvert_exporter": "python",
   "pygments_lexer": "ipython3",
   "version": "3.9.1"
  }
 },
 "nbformat": 4,
 "nbformat_minor": 4
}
