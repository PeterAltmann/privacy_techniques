{
 "cells": [
  {
   "cell_type": "markdown",
   "metadata": {},
   "source": [
    "# Square roots modulo N\n",
    "\n",
    "Sources are \n",
    "\n",
    "* https://minds.wisconsin.edu/bitstream/handle/1793/11024/file_1.pdf?sequence=1&isAllowed=y\n",
    "* https://asecuritysite.com/encryption/jacobi\n",
    "* https://asecuritysite.com/encryption/q_res\n",
    "* https://asecuritysite.com/encryption/modsq"
   ]
  },
  {
   "cell_type": "code",
   "execution_count": 1,
   "metadata": {},
   "outputs": [],
   "source": [
    "from Crypto.Util import number\n",
    "from Crypto.Hash import SHA256\n",
    "import libnum"
   ]
  },
  {
   "cell_type": "markdown",
   "metadata": {},
   "source": [
    "## Modulo $N$ where $N = pq$\n",
    "\n",
    "If a solution exists to $x^2 \\equiv y \\mod n$, where $n$ is the product of two primes, then $y$ is a quadratic residue mod $n$"
   ]
  },
  {
   "cell_type": "code",
   "execution_count": 2,
   "metadata": {},
   "outputs": [],
   "source": [
    "def easy_sqrt_prime(N, k=1):\n",
    "    \"\"\"\n",
    "    Returns list of k N bit prime(s) that is congruent to 3 mod 4.\n",
    "    \"\"\"\n",
    "    primes = []\n",
    "    for i in range(k):\n",
    "        q = 0\n",
    "        while q % 4 != 3:\n",
    "            q = number.getPrime(N)\n",
    "        primes.append(q)\n",
    "    return primes"
   ]
  },
  {
   "cell_type": "code",
   "execution_count": null,
   "metadata": {},
   "outputs": [],
   "source": []
  },
  {
   "cell_type": "code",
   "execution_count": 79,
   "metadata": {},
   "outputs": [],
   "source": [
    "primes = easy_sqrt_prime(128, 2) # these are primes where the sqrt is easy to find\n",
    "p, q = primes[0], primes[1]\n",
    "n = p*q\n",
    "y = number.getRandomNBitInteger(256)"
   ]
  },
  {
   "cell_type": "code",
   "execution_count": 81,
   "metadata": {},
   "outputs": [
    {
     "name": "stdout",
     "output_type": "stream",
     "text": [
      "CPU times: user 2 µs, sys: 0 ns, total: 2 µs\n",
      "Wall time: 5.72 µs\n",
      "The quadratic residuo 107503068719395177855054088324446719083867320133616401147401633275393465444999 mod 176528126503887317220563372817762238051 has a square root 120387321284597132451406132544978295669\n",
      "The quadratic residuo 107503068719395177855054088324446719083867320133616401147401633275393465444999 mod 305485388058091105617532626333982122163 has a square root 2839720760574330135142627600330178302\n",
      "3939342245843168774200378494823930656539758729701022834172236585160139683932\n"
     ]
    }
   ],
   "source": [
    "%time\n",
    "if libnum.has_sqrtmod(y, {p: 1}):\n",
    "    print(f'The quadratic residuo {y} mod {p} has a square root {next(libnum.sqrtmod(y, {p: 1}))}')\n",
    "\n",
    "if libnum.has_sqrtmod(y, {q: 1}):\n",
    "    print(f'The quadratic residuo {y} mod {q} has a square root {next(libnum.sqrtmod(y, {q: 1}))}')\n",
    "    \n",
    "if libnum.has_sqrtmod(y, {p:1, q: 1}):\n",
    "    print(next(libnum.sqrtmod(y, {p:1, q: 1})))"
   ]
  },
  {
   "cell_type": "code",
   "execution_count": 82,
   "metadata": {},
   "outputs": [],
   "source": [
    "p,q = number.getPrime(128),number.getPrime(128)\n",
    "n = p*q\n",
    "y = number.getRandomNBitInteger(512)"
   ]
  },
  {
   "cell_type": "code",
   "execution_count": 87,
   "metadata": {},
   "outputs": [
    {
     "name": "stdout",
     "output_type": "stream",
     "text": [
      "CPU times: user 3 µs, sys: 0 ns, total: 3 µs\n",
      "Wall time: 6.2 µs\n",
      "The quadratic residuo 7846977667790728952584092768955731942520595222724435448964471785640160473850507773437624775493693496289223051754127584410241017525425878540283366171168404 mod 335125305627611444184520795802854249483 has a square root 130755080072372295486832110263226855233\n",
      "The quadratic residuo 7846977667790728952584092768955731942520595222724435448964471785640160473850507773437624775493693496289223051754127584410241017525425878540283366171168404 mod 174620092990639438698951229496745760613 has a square root 103478347061535177300132987511545474097\n",
      "The quadratic residuo 7846977667790728952584092768955731942520595222724435448964471785640160473850507773437624775493693496289223051754127584410241017525425878540283366171168404 mod 335125305627611444184520795802854249483174620092990639438698951229496745760613 has a square root 12890021748422692041420958698877065144674472005398372156944833302288180970105\n"
     ]
    }
   ],
   "source": [
    "%time\n",
    "if libnum.has_sqrtmod(y, {p: 1}):\n",
    "    print(f'The quadratic residuo {y} mod {p} has a square root {next(libnum.sqrtmod(y, {p: 1}))}')\n",
    "\n",
    "if libnum.has_sqrtmod(y, {q: 1}):\n",
    "    print(f'The quadratic residuo {y} mod {q} has a square root {next(libnum.sqrtmod(y, {q: 1}))}')\n",
    "    \n",
    "if libnum.has_sqrtmod(y, {p:1, q: 1}):\n",
    "    print(f'The quadratic residuo {y} mod {p}{q} has a square root {next(libnum.sqrtmod(y, {p:1, q: 1}))}')"
   ]
  },
  {
   "cell_type": "code",
   "execution_count": null,
   "metadata": {},
   "outputs": [],
   "source": []
  }
 ],
 "metadata": {
  "kernelspec": {
   "display_name": "Python 3",
   "language": "python",
   "name": "python3"
  },
  "language_info": {
   "codemirror_mode": {
    "name": "ipython",
    "version": 3
   },
   "file_extension": ".py",
   "mimetype": "text/x-python",
   "name": "python",
   "nbconvert_exporter": "python",
   "pygments_lexer": "ipython3",
   "version": "3.9.1"
  }
 },
 "nbformat": 4,
 "nbformat_minor": 4
}
