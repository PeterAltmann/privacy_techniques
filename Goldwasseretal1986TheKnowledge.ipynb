{
 "cells": [
  {
   "cell_type": "markdown",
   "metadata": {},
   "source": [
    "# The Knowledge complexity of interactive proof systems\n",
    "\n",
    "Paper available in google [drive](https://drive.google.com/file/d/1oCb_Ll6JAQlcTan4qNtDS4wZVdwb0rv9/view?usp=sharing). It contains a ZKP for QR under section 5 that will be implemented below."
   ]
  },
  {
   "cell_type": "code",
   "execution_count": 1,
   "metadata": {},
   "outputs": [],
   "source": [
    "import libnum"
   ]
  },
  {
   "cell_type": "code",
   "execution_count": 16,
   "metadata": {},
   "outputs": [
    {
     "name": "stdout",
     "output_type": "stream",
     "text": [
      "Peggy sends 4256510623\n",
      "Victor test yields: True\n",
      "Peggy sends 13605215706217790070\n",
      "Victor test yields: True\n"
     ]
    }
   ],
   "source": [
    "# ZKP QR\n",
    "x = libnum.generate_prime(64)\n",
    "y_root = libnum.randint_bits(24)\n",
    "y = pow(y_root,2,x)\n",
    "r = libnum.randint_bits(32)\n",
    "u = pow(r, 2, x)\n",
    "\n",
    "# if 0\n",
    "peggy_root = [x for x in libnum.sqrtmod(u,{x:1})]\n",
    "print('Peggy sends', peggy_root[0])\n",
    "print('Victor test yields:', pow(peggy_root[0],2,x) == u)\n",
    "\n",
    "# if 1\n",
    "peggy_root = [x for x in libnum.sqrtmod((u*y), {x:1})]\n",
    "print('Peggy sends', peggy_root[0])\n",
    "print('Victor test yields:', pow(peggy_root[0],2,x) == y*u % x)"
   ]
  }
 ],
 "metadata": {
  "kernelspec": {
   "display_name": "Python 3",
   "language": "python",
   "name": "python3"
  },
  "language_info": {
   "codemirror_mode": {
    "name": "ipython",
    "version": 3
   },
   "file_extension": ".py",
   "mimetype": "text/x-python",
   "name": "python",
   "nbconvert_exporter": "python",
   "pygments_lexer": "ipython3",
   "version": "3.9.1"
  }
 },
 "nbformat": 4,
 "nbformat_minor": 4
}
