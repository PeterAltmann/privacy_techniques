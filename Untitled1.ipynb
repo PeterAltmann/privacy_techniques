{
 "cells": [
  {
   "cell_type": "markdown",
   "metadata": {},
   "source": [
    "# ZKP of password"
   ]
  },
  {
   "cell_type": "markdown",
   "metadata": {},
   "source": [
    "* We want Peggy to generate a ZK proof of knowledge of password and publish this proof. \n",
    "* Victor issues a challenge tied to the ZKP of password to Peggy.\n",
    "* Peggy now proves that she still knows the committed password.\n",
    "\n",
    "Many ways exist to solve the above, but one commonly used method is the \"non-interactive random oracle access\" for ZKP defined as the Fiat-Shamir heuristic. The process relies on the discrete log problem that is easy for Peggy to prove, but computationally non efficient for Eve to prove, and efficient for Victor to verify. The method is as follows (all operations are done in mod p):\n",
    "\n",
    "1. Victor and Peggy agree on a generator $g$ and a prime number $p$.\n",
    "2. Peggy picks a password and uses a cryptographic hashing algorithm $H()$ to generate a digest of her password.\n",
    "3. Peggy does: $x=\\texttt{int(H(password))}$\n",
    "4. Peggy sends: $y = g^x \\mod p$\n",
    "5. When Peggy wants to log on, she generates a random value $v \\leftarrow \\texttt{rand()}$ and computes $t = g^v \\mod p$\n",
    "6. Victor sends Peggy a challenge $c \\leftarrow \\texttt{rand()}$ \n",
    "7. Peggy computes $r = v - c \\times t \\mod p$ and sends $r$ to Victor\n",
    "8. Victor computes $g^ry^c \\mod p$ and checks if it equals $t$.\n",
    "\n",
    "This works because:\n",
    "\n",
    "* Peggy cannot generate $(y,t,r)$ without knowing $(x,v,c)$\n",
    "* Victor sends a public challenge $c$\n",
    "* Eve cannot generate $(y,r)$ as she does not know $x$ and cannot solve discrete log efficiently\n",
    "* Since $g^r y^c = g^{v-cx}(g^{x})^c = g^v = t$, assuming $\\mod p$, Victor can verify that Peggy indeed knows $x$"
   ]
  },
  {
   "cell_type": "code",
   "execution_count": 1,
   "metadata": {},
   "outputs": [],
   "source": [
    "from Crypto.Util import number\n",
    "from Crypto.Hash import SHA256"
   ]
  },
  {
   "cell_type": "code",
   "execution_count": 2,
   "metadata": {},
   "outputs": [
    {
     "data": {
      "text/plain": [
       "True"
      ]
     },
     "execution_count": 2,
     "metadata": {},
     "output_type": "execute_result"
    }
   ],
   "source": [
    "g, p = 3, pow(2,19)-1\n",
    "password = \"Thisisabadpassword\"\n",
    "x = SHA256.new(bytes(password, 'utf-8'))\n",
    "x = int(x.hexdigest(), 16)\n",
    "y = pow(g, x, p) # Peggy sends this to Victor\n",
    "\n",
    "# To authenticate, Peggy generates t = g ** v and sends this as auth request to Victor\n",
    "v = number.getRandomNBitInteger(64)\n",
    "t = pow(g, v, p)\n",
    "\n",
    "# Victor generates c and sends c to Peggy, who returns r = v - c*x. \n",
    "c = number.getRandomNBitInteger(64) # Public\n",
    "r = v - c * x # Peggy computes and makes public\n",
    "\n",
    "# Victor computes\n",
    "verify = (pow(g, r, p) * pow(y, c , p)) % p\n",
    "verify == t"
   ]
  },
  {
   "cell_type": "markdown",
   "metadata": {},
   "source": [
    "## DF ZKP of knowing secret $x$\n",
    "\n",
    "Alice will prove she knows $x$, without revealing $x$."
   ]
  },
  {
   "cell_type": "markdown",
   "metadata": {},
   "source": [
    "* Alice and Bob agree on two bases for their calculations $(g,h)$ and a prime $(n)$\n",
    "* Bob sends Alice a random number, $r$\n",
    "* Alice generates her own random number, $r_1$\n",
    "\n",
    "$\n",
    "c_1 = g^x h^{r_1} \\\\\n",
    "r_2 = r - xr_1 \\\\\n",
    "c_2 = c_1^x h^{r_2} \\mod n \\\\\n",
    "$\n",
    "\n",
    "Alice sends Bob $c_2$. Bob tests if $c_2 == g ^{x^2} h^r \\mod n$. The above works because:\n",
    "\n",
    "* If Alice does not have a specific number in mind, she cannot generate both $g^x$ and $xr_1$.\n",
    "* Alice hides $x$ with $r_1$.\n",
    "* For Bob to find $g^x$ he must solve discrete log prob.\n",
    "* Note that $c_1^x h^{r_2} \\mod n = (g^x h^{r_1})^x h^{r - xr_1} \\mod n$ \n",
    "* Which gives $g^{x^2} h^{xr_1} \\cdot h^{r - xr_1} \\mod n = g^{x^2}h^r \\mod n$"
   ]
  },
  {
   "cell_type": "code",
   "execution_count": 5,
   "metadata": {},
   "outputs": [],
   "source": [
    "import libnum\n",
    "import random"
   ]
  },
  {
   "cell_type": "code",
   "execution_count": 6,
   "metadata": {},
   "outputs": [],
   "source": [
    "def c2(c_1, x, h, r_2, n):\n",
    "    if r_2 > 0:\n",
    "        return pow(c_1, x, n) * libnum.invmod(pow(h, -r_2, n), n) % n\n",
    "    else:\n",
    "        return pow(c_1, x, n) * pow(h, r_2, n) % n"
   ]
  },
  {
   "cell_type": "code",
   "execution_count": 7,
   "metadata": {},
   "outputs": [],
   "source": [
    "# We first agree on generators and modulus\n",
    "g,h,n = 3,5,pow(2,19)-1"
   ]
  },
  {
   "cell_type": "code",
   "execution_count": 8,
   "metadata": {},
   "outputs": [
    {
     "data": {
      "text/plain": [
       "True"
      ]
     },
     "execution_count": 8,
     "metadata": {},
     "output_type": "execute_result"
    }
   ],
   "source": [
    "# Alice picks a number x, gets a random r from Bob, generates her own random r_1\n",
    "x = 2\n",
    "r = random.getrandbits(16)\n",
    "r_1 = random.getrandbits(16)\n",
    "\n",
    "# Alice computes c_1 and c_2\n",
    "c_1 = pow(g, x, n) * pow(h, r_1, n) % n\n",
    "r_2 = (r - x * r_1)\n",
    "c_2 = c2(c_1, x, h, r_2, n)\n",
    "\n",
    "#Alice sends c_2 and g^(x^2)h^r to Bob, who compares\n",
    "c_2 == pow(g, x * x, n) * pow(h, r, n) % n # true IFF Alice had a number in mind."
   ]
  }
 ],
 "metadata": {
  "kernelspec": {
   "display_name": "Python 3",
   "language": "python",
   "name": "python3"
  },
  "language_info": {
   "codemirror_mode": {
    "name": "ipython",
    "version": 3
   },
   "file_extension": ".py",
   "mimetype": "text/x-python",
   "name": "python",
   "nbconvert_exporter": "python",
   "pygments_lexer": "ipython3",
   "version": "3.9.1"
  }
 },
 "nbformat": 4,
 "nbformat_minor": 4
}
