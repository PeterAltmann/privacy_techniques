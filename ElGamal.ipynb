{
 "cells": [
  {
   "cell_type": "markdown",
   "metadata": {},
   "source": [
    "# El Gamal"
   ]
  },
  {
   "cell_type": "markdown",
   "metadata": {},
   "source": [
    "https://asecuritysite.com/encryption/go_el_homo\n",
    "\n",
    "* Bob creates public key $(g,p,y = g^x \\mod p)$ and private key $x$ where $p \\in \\mathbb{P}$.\n",
    "* Alice creates msg $m$ and selects a random $k$.\n",
    "* Alice computes $(a = g^k \\mod p, b= y^k m \\mod p)$\n",
    "* Bob decrypts with $m = \\frac{b}{a^x} \\mod p$"
   ]
  },
  {
   "cell_type": "code",
   "execution_count": 2,
   "metadata": {},
   "outputs": [],
   "source": [
    "from Crypto.PublicKey import ElGamal\n",
    "from Crypto.Util import number\n",
    "from ecpy.curves import Curve # https://ec-python.readthedocs.io/en/latest/"
   ]
  },
  {
   "cell_type": "code",
   "execution_count": null,
   "metadata": {},
   "outputs": [],
   "source": [
    "key = ElGamal.generate(256, ElGamal.Random.urandom)"
   ]
  },
  {
   "cell_type": "code",
   "execution_count": null,
   "metadata": {},
   "outputs": [],
   "source": [
    "print(f'Public key components: \\n(g={key.g}, p={key.p},y={key.y})')\n",
    "print(f\"Private key component: \\n(x={key.x})\")"
   ]
  },
  {
   "cell_type": "code",
   "execution_count": null,
   "metadata": {},
   "outputs": [],
   "source": [
    "# Alice sets parameters\n",
    "g = int(key.g)\n",
    "p = int(key.p)\n",
    "x = int(key.x)\n",
    "y = pow(g,x,p)\n",
    "\n",
    "# Bob encrypts\n",
    "m = 150\n",
    "k = number.getRandomNBitInteger(128)\n",
    "a = pow(g, k, p)\n",
    "b = pow(y, k, p) * m % p\n",
    "\n",
    "assert pow(pow(a, -1, p), x, p) * b % p == m\n",
    "\n",
    "print(f\"Bob's msg is (a = {a}, b = {b})\")\n",
    "\n",
    "m == pow(pow(a, x, p), -1, p) * b % p"
   ]
  },
  {
   "cell_type": "markdown",
   "metadata": {},
   "source": [
    "## Multiplication with El Gamal"
   ]
  },
  {
   "cell_type": "markdown",
   "metadata": {},
   "source": [
    "* Alice computes: $(a_1 = g^{k_1} \\mod p, b_1= y^{k_1} m_1 \\mod p)$\n",
    "* Bob computes: $(a_2 = g^{k_2} \\mod p, b_2= y^{k_2} m_2 \\mod p)$\n",
    "\n",
    "\\begin{align}\n",
    "    \\frac{b_1 b_2}{a_1^x a_2^x} \\mod p = \\frac{(g^x)^{k_1} \\cdot m_1 \\cdot (g^x)^{k_2} \\cdot m_2}{(g^{k_1})^x \\cdot (g^{k_2})^x} \\mod p = m_1 \\cdot m_2 \\mod p\n",
    "\\end{align}"
   ]
  },
  {
   "cell_type": "markdown",
   "metadata": {},
   "source": [
    "## Division with El Gamal"
   ]
  },
  {
   "cell_type": "markdown",
   "metadata": {},
   "source": [
    "* Alice computes: $(a_1 = g^{k_1} \\mod p, b_1= y^{k_1} m_1 \\mod p)$\n",
    "* Bob computes: $(a_2 = g^{k_2} \\mod p, b_2= y^{k_2} m_2 \\mod p)$\n",
    "\n",
    "\\begin{align}\n",
    "    \\frac{b_1 a_2^x}{a_1^x b_2} \\mod p = \\frac{ (g^x)^{k_1} \\cdot m_1 \\cdot (g^{k_2})^x }{(g^{k_1})^x \\cdot (g^x)^{k_2} \\cdot m_2} \\mod p = \\frac{m_1}{m_2} \\mod p\n",
    "\\end{align}"
   ]
  },
  {
   "cell_type": "markdown",
   "metadata": {},
   "source": [
    "## Addition with El Gamal"
   ]
  },
  {
   "cell_type": "markdown",
   "metadata": {},
   "source": [
    "* Alice computes: $(a_1 = g^{k_1} \\mod p, b_1= y^{k_1} g^{m_1} \\mod p)$\n",
    "* Bob computes: $(a_2 = g^{k_2} \\mod p, b_2= y^{k_2} g^{m_2} \\mod p)$\n",
    "\n",
    "\\begin{align}\n",
    "    \\frac{b_1 b_2}{a_1^x a_2^x} \\mod p = \\frac{(g^x)^{k_1} \\cdot g^{m_1} \\cdot (g^x)^{k_2} \\cdot g^{m_2}}{(g^{k_1})^x \\cdot (g^{k_2})^x} \\mod p = g^{m_1} \\cdot g^{m_2} \\mod p = g^{m_1 + m_2} \\mod p\n",
    "\\end{align}"
   ]
  },
  {
   "cell_type": "markdown",
   "metadata": {},
   "source": [
    "## Elliptic curve El Gamal"
   ]
  },
  {
   "cell_type": "markdown",
   "metadata": {},
   "source": [
    "* Alice generates private key $a$ and public key $A = a G$ where $G$ is EC generator point\n",
    "* Bob computes $M = A m$ where $m$ is his message\n",
    "* Bob computes $K = k G$ where $k \\leftarrow \\texttt{rand()}$ and $C = kA + M$\n",
    "* Alice gets $(K,M)$ and decrypts using her private key\n",
    "    1. $S = aK$\n",
    "    2. $M = C - S = kA + M - aK = kaG + M - akG$\n",
    "\n",
    "**Note** Not sure what good this does as $M$ is a point multiplication $mA$ and as long as $m$ is large enough, it will be hard to find $m$ from $M$."
   ]
  },
  {
   "cell_type": "code",
   "execution_count": 3,
   "metadata": {},
   "outputs": [
    {
     "data": {
      "text/plain": [
       "True"
      ]
     },
     "execution_count": 3,
     "metadata": {},
     "output_type": "execute_result"
    }
   ],
   "source": [
    "# https://github.com/dedis/kyber\n",
    "# https://asecuritysite.com/encryption/go_elgamal_ecc\n",
    "# The curve\n",
    "curve = Curve.get_curve('Curve25519')\n",
    "G = curve.generator\n",
    "order = curve.order\n",
    "\n",
    "# Alice's parts\n",
    "private_key = number.getRandomNBitInteger(128)\n",
    "A = private_key * G\n",
    "\n",
    "# Bob \n",
    "M = 12345 * G\n",
    "k = number.getRandomNBitInteger(128)\n",
    "K = k * G\n",
    "C = k * A + M\n",
    "\n",
    "# Alice gets (K, M)\n",
    "S = private_key * K\n",
    "M == (C - S)"
   ]
  }
 ],
 "metadata": {
  "kernelspec": {
   "display_name": "Python 3",
   "language": "python",
   "name": "python3"
  },
  "language_info": {
   "codemirror_mode": {
    "name": "ipython",
    "version": 3
   },
   "file_extension": ".py",
   "mimetype": "text/x-python",
   "name": "python",
   "nbconvert_exporter": "python",
   "pygments_lexer": "ipython3",
   "version": "3.9.1"
  }
 },
 "nbformat": 4,
 "nbformat_minor": 4
}
