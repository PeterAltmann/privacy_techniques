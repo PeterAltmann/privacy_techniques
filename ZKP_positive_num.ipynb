{
 "cells": [
  {
   "cell_type": "markdown",
   "metadata": {},
   "source": [
    "# ZKP positive number proof"
   ]
  },
  {
   "cell_type": "code",
   "execution_count": 7,
   "metadata": {},
   "outputs": [],
   "source": [
    "from Crypto.Util import number\n",
    "import numpy as np"
   ]
  },
  {
   "cell_type": "code",
   "execution_count": 8,
   "metadata": {},
   "outputs": [],
   "source": [
    "def ZKPrandom(bitlength=8):\n",
    "    x = [number.getRandomNBitInteger(8) for i in range(4)]\n",
    "    return x, int(np.sum(x))\n",
    "\n",
    "def ZKPnumber(bitlength=4):\n",
    "    x = [number.getRandomNBitInteger(bitlength) ** 2 for i in range(4)]\n",
    "    return x, int(np.sum(x))\n",
    "\n",
    "def ZKPpositive(x, g=3, h=5, n=pow(2,19)-1):\n",
    "    c_0, c_1, c_2, c_3 = [(pow(g, x[i], n) * pow(h, r[i], n)) % n for i in range(4)]\n",
    "    c = (c_0 * c_1 * c_2 * c_3) % n\n",
    "    return c"
   ]
  },
  {
   "cell_type": "code",
   "execution_count": 9,
   "metadata": {},
   "outputs": [
    {
     "name": "stdout",
     "output_type": "stream",
     "text": [
      "Alice has number 531 and generates random shares [229, 247, 240, 192]\n",
      "Range is [515,9368]\n"
     ]
    },
    {
     "data": {
      "text/plain": [
       "(True, True)"
      ]
     },
     "execution_count": 9,
     "metadata": {},
     "output_type": "execute_result"
    }
   ],
   "source": [
    "# Alice and Bob agree on bases g,h and prime n\n",
    "g, h, n = 3, 5, pow(2,19)-1\n",
    "\n",
    "x, x_sum = ZKPnumber(4)\n",
    "r, r_sum = ZKPrandom(8)\n",
    "\n",
    "print(\"Alice has number %d and generates random shares\" % (x_sum),r)\n",
    "\n",
    "x_minus_a, x_minus_a_sum = ZKPnumber(2)\n",
    "b_minus_x, b_minus_x_sum = ZKPnumber(6)\n",
    "\n",
    "print(\"Range is [%d,%d]\" % (x_sum - x_minus_a_sum, b_minus_x_sum + x_sum))\n",
    "\n",
    "ZKPpositive(x_minus_a) == pow(g,x_minus_a_sum,n) * pow(h,r_sum,n) % n, ZKPpositive(b_minus_x) == pow(g,b_minus_x_sum,n) * pow(h,r_sum,n) % n"
   ]
  },
  {
   "cell_type": "code",
   "execution_count": 16,
   "metadata": {},
   "outputs": [],
   "source": [
    "from ecpy.curves import Curve\n",
    "import random"
   ]
  },
  {
   "cell_type": "code",
   "execution_count": 17,
   "metadata": {},
   "outputs": [],
   "source": [
    "def curvePick(x):\n",
    "    \"\"\"\n",
    "    ['stark256',\n",
    " 'frp256v1',\n",
    " 'secp521r1',\n",
    " 'secp384r1',\n",
    " 'secp256k1',\n",
    " 'secp256r1',\n",
    " 'secp224k1',\n",
    " 'secp224r1',\n",
    " 'secp192k1',\n",
    " 'secp192r1',\n",
    " 'secp160k1',\n",
    " 'secp160r1',\n",
    " 'secp160r2',\n",
    " 'Brainpool-p512t1',\n",
    " 'Brainpool-p512r1',\n",
    " 'Brainpool-p384t1',\n",
    " 'Brainpool-p384r1',\n",
    " 'Brainpool-p320t1',\n",
    " 'Brainpool-p320r1',\n",
    " 'Brainpool-p256r1',\n",
    " 'Brainpool-p256t1',\n",
    " 'Brainpool-p224r1',\n",
    " 'Brainpool-p224t1',\n",
    " 'Brainpool-p192r1',\n",
    " 'Brainpool-p192t1',\n",
    " 'Brainpool-p160r1',\n",
    " 'Brainpool-p160t1',\n",
    " 'NIST-P256',\n",
    " 'NIST-P224',\n",
    " 'NIST-P192',\n",
    " 'Ed448',\n",
    " 'Ed25519',\n",
    " 'Curve448',\n",
    " 'Curve25519']\n",
    "    \"\"\"\n",
    "    curve = Curve.get_curve(Curve.get_curve_names()[x])\n",
    "    return curve"
   ]
  },
  {
   "cell_type": "code",
   "execution_count": 18,
   "metadata": {},
   "outputs": [
    {
     "data": {
      "text/plain": [
       "1"
      ]
     },
     "execution_count": 18,
     "metadata": {},
     "output_type": "execute_result"
    }
   ],
   "source": [
    "curve = curvePick(4) # 4 is secp256k1\n",
    "G = curve.generator\n",
    "order = curve.order\n",
    "a = [1, 44, 33, 10]\n",
    "b = [60, 54, 19, 10]\n",
    "\n",
    "assert all(a[i] > 0 for i in range(len(a))), \"Must use positive numbers\"\n",
    "assert all(b[i] > 0 for i in range(len(b))), \"Must use positive numbers\"\n",
    " \n",
    "\n",
    "s = number.getRandomNBitInteger(256)\n",
    "r = number.getRandomNBitInteger(256)\n",
    "\n",
    "raAi = [r * a[i] * G for i in range(len(a))]\n",
    "sraAi = [s * raAi[i] for i in range(len(a))]\n",
    "\n",
    "inv_r = pow(r, -1, order)\n",
    "\n",
    "random.shuffle(sraAi)\n",
    "\n",
    "sAi = [inv_r * sraAi[i] for i in range(len(a))]  \n",
    "sBi = [s * b[i] * G for i in range(len(b))]\n",
    "    \n",
    "len(np.intersect1d([sBi[i].x for i in range(len(a))], [sAi[i].x for i in range(len(a))]))"
   ]
  },
  {
   "cell_type": "code",
   "execution_count": null,
   "metadata": {},
   "outputs": [],
   "source": []
  }
 ],
 "metadata": {
  "kernelspec": {
   "display_name": "Python 3",
   "language": "python",
   "name": "python3"
  },
  "language_info": {
   "codemirror_mode": {
    "name": "ipython",
    "version": 3
   },
   "file_extension": ".py",
   "mimetype": "text/x-python",
   "name": "python",
   "nbconvert_exporter": "python",
   "pygments_lexer": "ipython3",
   "version": "3.9.1"
  }
 },
 "nbformat": 4,
 "nbformat_minor": 4
}
