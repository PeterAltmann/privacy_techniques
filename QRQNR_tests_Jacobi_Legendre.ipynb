{
 "cells": [
  {
   "cell_type": "markdown",
   "metadata": {},
   "source": [
    "# Test for QR and QNR using the Jacobi symbol\n",
    "\n",
    "To perform a test whether or not a value $x \\in \\mathbb{N}$ is a QR mod $p$, we can use the Jacobi or the Legende symbol\n",
    "\n",
    "Interesting reading includes:\n",
    "* https://en.wikipedia.org/wiki/Quadratic_reciprocity\n",
    "* https://en.wikipedia.org/wiki/Quadratic_residue\n",
    "* https://en.wikipedia.org/wiki/Legendre_symbol\n",
    "* https://en.wikipedia.org/wiki/Jacobi_symbol\n",
    "\n",
    "## Jacobi symbol\n",
    "\n",
    "The Jacobi symbol is $\\big(\\frac{a}{p}\\big)$ and is defined as follows:\n",
    "\n",
    "\\begin{align}\n",
    "    \\bigg(\\frac{a}{p}\\bigg) = \n",
    "        \\begin{cases}\n",
    "            0, & \\text{if } a \\equiv 0 \\mod{p} \\\\\n",
    "            1, & \\text{if } a \\not\\equiv 0 \\mod{p} \\text{ and for some integer } x:a\\equiv x^2 \\mod{p}\\\\\n",
    "            -1, &  \\text{if } a \\not\\equiv 0 \\mod{p} \\text{ and there is no integer } x:a\\equiv x^2 \\mod{p}\\\\\n",
    "        \\end{cases}\n",
    "\\end{align}\n",
    "\n",
    "## The legendre symbol\n",
    "\n",
    "The Legendre symbol returns \n",
    "\n",
    "* $1$ when $a$ is a QR in mod $p$\n",
    "* $-1$ when $a$ is a QNR in mod $p$\n",
    "* $0$ when $a$ shares a factor with $p$\n",
    "\n",
    "## When to use what?\n",
    "The Jacobi is faster since it does not require factorization of the numerator. Thus, I will use the Jacobi below."
   ]
  },
  {
   "cell_type": "code",
   "execution_count": 1,
   "metadata": {},
   "outputs": [],
   "source": [
    "import libnum"
   ]
  },
  {
   "cell_type": "code",
   "execution_count": 2,
   "metadata": {},
   "outputs": [],
   "source": [
    "def jacobi(n, k):\n",
    "    assert (k > 0 and k % 2 == 1)\n",
    "    n = n % k\n",
    "    t = 1\n",
    "    \n",
    "    while n != 0:\n",
    "        while n % 2 == 0:\n",
    "            n = n // 2\n",
    "            r = k % 8\n",
    "            if r == 3 or r == 5:\n",
    "                t = -t\n",
    "        n, k = k, n\n",
    "        if n % 4 == 3 and k % 4 == 3:\n",
    "            t = -t\n",
    "        n = n % k\n",
    "    return t if k == 1 else 0"
   ]
  },
  {
   "cell_type": "code",
   "execution_count": 3,
   "metadata": {},
   "outputs": [
    {
     "data": {
      "text/plain": [
       "(14814397939127945189, 953946017110621013, -1)"
      ]
     },
     "execution_count": 3,
     "metadata": {},
     "output_type": "execute_result"
    }
   ],
   "source": [
    "p = libnum.generate_prime(64)\n",
    "n = libnum.randint_bits(60)\n",
    "assert jacobi(n,p) == libnum.jacobi(n,p)\n",
    "p, n, jacobi(n,p)"
   ]
  }
 ],
 "metadata": {
  "kernelspec": {
   "display_name": "Python 3",
   "language": "python",
   "name": "python3"
  },
  "language_info": {
   "codemirror_mode": {
    "name": "ipython",
    "version": 3
   },
   "file_extension": ".py",
   "mimetype": "text/x-python",
   "name": "python",
   "nbconvert_exporter": "python",
   "pygments_lexer": "ipython3",
   "version": "3.9.1"
  }
 },
 "nbformat": 4,
 "nbformat_minor": 4
}
