{
 "cells": [
  {
   "cell_type": "markdown",
   "id": "6a4ba7cf-aedc-47f3-a412-898d363dea8d",
   "metadata": {},
   "source": [
    "# The Dutch eHealth use case\n",
    "\n",
    "Full report [Verheul et al 2016](https://eprint.iacr.org/2016/411.pdf) and [summary](https://redasci.org/wp-content/uploads/2017/02/pep-informal.pdf).\n",
    "\n",
    "* Crypto\n",
    "    * Introduces polymorphic encryption and polymorphic pseudonymization to manage sensitive personal data.\n",
    "    * Data can be encrypted and stored in the cloud without having to pre-determine who can decrypt these data\n",
    "    * When required, a set of decryption keys can be determined\n",
    "    * The data can be tweaked to be decryptable by a specific party in a blinded manner\n",
    "* Third parties\n",
    "    * Relies on a trusted third party who can tweak the ciphertext to the intended party\n",
    "    * Requires a trusted third party that stores a master key\n",
    "* Privacy\n",
    "    * The data subject is pseudonymized in a polymorphic way, meaning that each data subject has a different pseudonym at different parties and can only be de-pseudonymized by participants who know the original identity\n",
    "    * Aims to protect against colluding recipients on the basis of a known identifier\n",
    "    * Does not protect against colluding actors in general. \n",
    "        * Even the master private key can be retrieved using $K_A^{-1} \\cdot x_A = x$\n",
    "    * The PEP framework only concentrates on cryptographic protection of identifiers.\n",
    "* User control\n",
    "    * \"the user is not in complete control over his/her data.\" (p. 10)"
   ]
  },
  {
   "cell_type": "markdown",
   "id": "26434752-30a1-473b-b2a4-538bd309277f",
   "metadata": {},
   "source": [
    "My initial thoughts:\n",
    "\n",
    "1. Interesting approach that uses a lot of crypto primitives (e.g., blinding) that the \"SSI\" space also uses.\n",
    "2. Relies heavily on a Trusted Third Party who will know what data is sent to where (e.g., it knows exactly when the data subject sends data to the Storage Facility) and can thus profile the data subject. Several questions emerge:\n",
    "    * Check if the TTP can be malicious or if it needs to be trusted\n",
    "    * Can the TTP run in a decentralized way?\n",
    "    * What if the recipient and the TTP colludes?\n",
    "    * Could a relay solve the TTP problem?\n",
    "    * Can the data subject control the TransCryptor?\n",
    "3. Similar to a [proxy re-encryption scheme](https://en.wikipedia.org/wiki/Proxy_re-encryption#:~:text=Proxy%20re%2Dencryption%20(PRE),may%20be%20decrypted%20by%20another.) with blinding.\n",
    "4. The same pseudonym is used for every time the data subject wishes to interact with a recipient. This means that the recipient can profile the data subject. This is also mentioned on page 10. The aim is not privacy in general, but anti collusion based on identifiers.\n",
    "5. Any actor who wants to store data associated with a $\\texttt{pid}$ does so in a way that the TransCryptor can know.\n",
    "6. Unclear how the private keys of participants are generated. Figure 2.1. states that $x_A = K_A \\cdot x$ and that it is only $A$ who knows $x_A$, but\n",
    "    * $K_A \\in \\mathbb{F}_p$ is known to TransCryptor only\n",
    "    * $x \\in \\mathbb{F}_p$ is known to the Key Server only"
   ]
  },
  {
   "cell_type": "markdown",
   "id": "7f3f3bfc-e6a1-4184-924f-cf45e7017ff7",
   "metadata": {},
   "source": [
    "## Prelims\n",
    "\n",
    "* Discrete log based. I will follow the original text and implement an ECDLP.\n",
    "* For group $G$ with generator $g$ you have:\n",
    "* Public key $y = xg$\n",
    "* Message $M \\in G$\n",
    "* Denote ElGamal encryption as $\\mathcal{EG}(r,M,y) = \\langle rg,ry+M,y \\rangle = \\langle b,C\\rangle$ where $r$ is a random value\n",
    "* Decryption step requires knowledge of $x$ to do $C-x \\cdot b = (rxg + M) - x(rg)$\n",
    "\n",
    "\n",
    "Note that this is a malleable scheme and that the above is blinded (no two encryptions look the same even if they are both decrypted with $x$)."
   ]
  },
  {
   "cell_type": "code",
   "execution_count": 1,
   "id": "8b71085c-a513-4a36-a3c2-ec50a971ff94",
   "metadata": {},
   "outputs": [],
   "source": [
    "from Crypto.Util import number\n",
    "from ecpy import curves"
   ]
  },
  {
   "cell_type": "code",
   "execution_count": 2,
   "id": "ed807f10-8f9b-4de4-bb45-88b4cc07a10d",
   "metadata": {},
   "outputs": [],
   "source": [
    "# curves.Curve.get_curve_names()\n",
    "curve = curves.Curve.get_curve('Ed25519')"
   ]
  },
  {
   "cell_type": "code",
   "execution_count": 3,
   "id": "ddcef3cf-8d8b-4c02-9390-dc69c85be575",
   "metadata": {},
   "outputs": [],
   "source": [
    "# Setup is typical EC setup\n",
    "g = curve.generator\n",
    "p = curve.order\n",
    "\n",
    "x = number.getPrime(p.bit_length()-1)\n",
    "y = x * g"
   ]
  },
  {
   "cell_type": "code",
   "execution_count": 4,
   "id": "85bec06d-ca0e-4dce-ab63-8f80af54dfe5",
   "metadata": {},
   "outputs": [],
   "source": [
    "# Encryption\n",
    "\n",
    "M = number.getRandomRange(2, p) * g\n",
    "r = number.getRandomRange(2, p)\n",
    "\n",
    "enc = [r*g, r*y+M]"
   ]
  },
  {
   "cell_type": "code",
   "execution_count": 5,
   "id": "faa996b3-97ab-4b49-8712-0d57faf1b5a0",
   "metadata": {},
   "outputs": [
    {
     "data": {
      "text/plain": [
       "True"
      ]
     },
     "execution_count": 5,
     "metadata": {},
     "output_type": "execute_result"
    }
   ],
   "source": [
    "(enc[1] - enc[0] * x).x == M.x"
   ]
  },
  {
   "cell_type": "markdown",
   "id": "16b46792-df4c-4da6-9a73-eecbbeba9d68",
   "metadata": {},
   "source": [
    "## ElGamal Manipulations\n",
    "\n",
    "$\\mathcal{EG}(r,M,y)= \\langle rg,ry+M,y\\rangle$\n",
    "\n",
    "Three operations, all in $G^3 \\times \\mathbb{F}_3 \\longrightarrow G^3$"
   ]
  },
  {
   "cell_type": "markdown",
   "id": "2a524aef-e628-4f6c-ad34-7fdad62e3738",
   "metadata": {},
   "source": [
    "### re-randomize ($\\mathcal{RR}$)\n",
    "\n",
    "Changes apparence but not the content of ciphertext (in essence blinding). With new $s \\in \\mathbb{F}$:\n",
    "\n",
    "$\\mathcal{RR}(\\langle b,C,y \\rangle, s) := \\langle sg+b, sy+C,y \\rangle$\n",
    "\n",
    "$\n",
    "\\begin{align*}\n",
    "\\mathcal{RR}(\\mathcal{EG}(r,M,y),s) &= \\mathcal{RR}(\\langle rg,ry+M,y\\rangle,s)\\\\\n",
    "&= \\langle sg + rg, sy+ry+M,y \\rangle\\\\\n",
    "&= (s+r)g, (s+r)y +M, y\\rangle\\\\\n",
    "&= \\mathcal{EG}(s+r,M,y)\n",
    "\\end{align*}\n",
    "$"
   ]
  },
  {
   "cell_type": "code",
   "execution_count": 6,
   "id": "e8e65de8-8ee4-4d9c-a136-5f716ed92f6e",
   "metadata": {},
   "outputs": [
    {
     "data": {
      "text/plain": [
       "True"
      ]
     },
     "execution_count": 6,
     "metadata": {},
     "output_type": "execute_result"
    }
   ],
   "source": [
    "## Re-randomization\n",
    "\n",
    "s = number.getRandomRange(2, p)\n",
    "\n",
    "rand_enc = [s*g + enc[0], s*y + enc[1], y]\n",
    "\n",
    "(rand_enc[1] - rand_enc[0] * x).x == M.x"
   ]
  },
  {
   "cell_type": "markdown",
   "id": "315e0bd6-2b6e-492a-8cd6-55f276583c8c",
   "metadata": {},
   "source": [
    "### re-key ($\\mathcal{RK}$)\n",
    "\n",
    "Changes who can decrypt. With a a new key $k \\in \\mathbb{F}_p$:\n",
    "\n",
    "$\\mathcal{RK}(\\mathcal{EG}(r,M,y),k)= \\mathcal{EG}(r \\cdot k^{-1}, M, ky)=\\langle r \\cdot k^{-1}\\cdot g, r \\cdot k^{-1} \\cdot ky + M, ky \\rangle = \\langle \\frac{rg}{k}, ry + M, ky \\rangle$\n",
    "\n",
    "Decrypt with adapted private key $kx$\n",
    "\n",
    "$ry + M - \\frac{kx \\cdot rg}{k} = ry + M - xgr = M$"
   ]
  },
  {
   "cell_type": "code",
   "execution_count": 7,
   "id": "081857e8-5027-44e1-bf36-7037df257e7d",
   "metadata": {},
   "outputs": [
    {
     "data": {
      "text/plain": [
       "True"
      ]
     },
     "execution_count": 7,
     "metadata": {},
     "output_type": "execute_result"
    }
   ],
   "source": [
    "# Re-keying\n",
    "\n",
    "k = number.getRandomRange(2,p)\n",
    "k_inv = pow(k,-1,p)\n",
    "\n",
    "k_enc = [r*g*k_inv, r*y + M]\n",
    "\n",
    "(k_enc[1] - k_enc[0] * x*k).x == M.x"
   ]
  },
  {
   "cell_type": "markdown",
   "id": "eb772c78-9213-498b-9d3b-cc6380fd46b4",
   "metadata": {},
   "source": [
    "### re-shuffle ($\\mathcal{RS}$)\n",
    "\n",
    "Raise the plaintext to a certain power (an encryption of $n\\cdot M$ with random $n \\cdot r$). With $n \\in \\mathbb{F}_p$\n",
    "\n",
    "$\\mathcal{RR}(\\langle b,C,y \\rangle, n) := \\langle nrg, n(ry + M),y \\rangle = \\langle nb, nC, y \\rangle$\n",
    "\n",
    "Decrypt with $x$ to get $n\\cdot M$\n",
    "\n",
    "Used to create a local pseudonym $\\texttt{pid}_A@X$"
   ]
  },
  {
   "cell_type": "code",
   "execution_count": 8,
   "id": "d8c2cd92-063c-4b04-a979-f506d9a47c32",
   "metadata": {},
   "outputs": [
    {
     "data": {
      "text/plain": [
       "True"
      ]
     },
     "execution_count": 8,
     "metadata": {},
     "output_type": "execute_result"
    }
   ],
   "source": [
    "n = number.getRandomRange(2,p)\n",
    "\n",
    "shuff_enc = [n*enc[0], n*enc[1]]\n",
    "\n",
    "(shuff_enc[1] - x * shuff_enc[0]).x == (n*M).x"
   ]
  },
  {
   "cell_type": "markdown",
   "id": "5c59c14b-4a51-473a-ac34-5d3460510adb",
   "metadata": {},
   "source": [
    "### Algebraic properties\n",
    "\n",
    "1. $\\mathcal{RK}$ and $\\mathcal{RS}$ commute: $\\mathcal{RK}(\\mathcal{RS}(\\langle b,C,y\\rangle,n),k) = \\mathcal{RS}(\\mathcal{RK}(\\langle b,C,y \\rangle, k),n)$ \n",
    "2. $\\mathcal{RR}(\\mathcal{RR}(\\langle b,C,y\\rangle, s), s') = \\mathcal{RR}(\\langle b,C,y\\rangle, s+ s')$"
   ]
  },
  {
   "cell_type": "markdown",
   "id": "df644fd7-2ddb-493c-939c-5e41637d1379",
   "metadata": {},
   "source": [
    "## Polymorphic encryption via re-keying\n",
    "\n",
    "* Master key $x \\in \\mathbb{F}_p$\n",
    "* Master public key $y = x \\cdot g \\in \\mathbf{G}$\n",
    "* Each participant $A$ has a private key $x_A=K_A \\cdot x$\n",
    "    1. TransCryptor (TTP) stores the table of pairs $(A, K_A)$ in HSM\n",
    "* Each participant $A$ has a public key $y_A=K_A \\cdot y$\n",
    "\n",
    "Polymorphic encryption of $D$ is $\\mathcal{EG}(r,D,y)$ with master public key $y$. \n",
    "\n",
    "* Anyone can encrypt data in this way\n",
    "* The TransCryptor re-keys the ciphertext to participant A via $\\mathcal{RK}(\\mathcal{EG}(r,D,y), K_A) = \\mathcal{EG}(\\frac{r}{K_A}, D, y_A)$\n"
   ]
  },
  {
   "cell_type": "markdown",
   "id": "ce819bfd-6aa8-445c-ba63-75a4c77604cc",
   "metadata": {},
   "source": [
    "## Polymorphic pseudonymization via re-shuffling\n",
    "\n",
    "SF is short for \"Storage Facility\"\n",
    "\n",
    "* Each holder $B$ has a personal identifier $\\texttt{pib}_B \\in \\mathbf{G}$\n",
    "* $B$'s local pseudonym at $A$ is $\\texttt{pib}_B @ A=S_A \\cdot \\texttt{pid}_B$\n",
    "    1. Only the TransCryptor knows the pairs (A,S_A)\n",
    "    2. The polymorphic pseudonym of $B$ is $\\mathcal{EG}(r, \\texttt{pid}_B, y)$ \n",
    "* TransCryptor reccieves $B$'s data\n",
    "    1. The TransCryptor re-shuffles and re-keys PP to the local pseudonym $\\texttt{pid}_B@SF = S_{SF} \\cdot \\texttt{pib}_B$\n",
    "    2. $\\mathcal{RK}(\\mathcal{RS}(\\mathcal{EG}(r, \\texttt{pid}_B, y), S_{SF}), K_{SF})=\\mathcal{EG}(\\frac{S_{SF} \\cdot r}{K_{SF}}, S_{SF} \\cdot \\texttt{pid}_B, K_{SF} \\cdot y) = \\mathcal{EG}(S_{SF} \\cdot r, \\texttt{pid}_B @ SF, y_{SF})$\n",
    "    3. SF decrypts and uses this local pseudonum $\\texttt{pid}_B @ SF$ as a database key to store the polymorphically encrypted data of $B$\n",
    "* If a recipient $A$ wants to retrieve $B$'s data:\n",
    "    1. $A$ sends PP $\\mathcal{EG}(r,\\texttt{pid}_B, y)$ to the TransCryptor, who re-keys and reshuffles it to SF, who obtains his local pseudonym of $B$ and looks up and returns the requested data, which gets re-keyed to $A$"
   ]
  },
  {
   "cell_type": "markdown",
   "id": "cc49ba05-5160-4c36-b951-86845e017247",
   "metadata": {},
   "source": [
    "## Proposed user flow\n",
    "\n",
    "1. Data generating device controlled by data subject $A$ contains $\\texttt{pid}_A$\n",
    "2. Device encrypts data and $\\texttt{pid}_A$ using ElGamal and sends to TransCryptor\n",
    "3. The TransCryptor re-shuffles $\\texttt{pid}_A$ to $\\texttt{pid}_A @ SF$ where $SF$ is storage facility.\n",
    "4. The TransCryptor re-keys the encrypted $\\texttt{pid}_A @ SF$ so that SF can open it."
   ]
  },
  {
   "cell_type": "code",
   "execution_count": 58,
   "id": "e03d8a07-aadd-4569-b727-97ee9f3527a0",
   "metadata": {},
   "outputs": [],
   "source": [
    "# Device data and pid for data subject A\n",
    "data = number.getRandomRange(2, p)*g\n",
    "pid_A = 198509096577*g\n",
    "\n",
    "# Device encrypts before sending to TransCryptor\n",
    "r_data = number.getRandomRange(2,p)\n",
    "r_pid_A = number.getRandomRange(2,p)\n",
    "\n",
    "enc_data = [r_data*g, r_data*y + data, y]\n",
    "enc_pid_A = [r_pid_A*g, r_pid_A*y + pid_A, y]\n",
    "\n",
    "assert (enc_data[1]-enc_data[0]*x).x ==data.x\n",
    "assert (enc_pid_A[1]-enc_pid_A[0]*x).x ==pid_A.x\n",
    "\n",
    "# TransCryptor re-shuffles pid to create local pseudonym pid_A @ SF\n",
    "n_SF = number.getRandomRange(2,p)\n",
    "pid_A_at_SF = [n_SF*enc_pid_A[0], n_SF*enc_pid_A[1]] # This is pid_A @ SF\n",
    "\n",
    "assert (pid_A_at_SF[1] - x * pid_A_at_SF[0]).x == (n_SF*pid_A).x\n",
    "\n",
    "# Re-key for SF so that SF can decrypt\n",
    "k_SF = number.getRandomRange(2,p) # Who generates k? Key Server?\n",
    "k_SF_inv = pow(k_SF,-1,p)\n",
    "k_SF_enc = [pid_A_at_SF[0] * k_SF_inv, pid_A_at_SF[1]] # TransCryptor knows k_SF_inv and n_SF\n",
    "\n",
    "assert (k_SF_enc[1] - k_SF_enc[0] * x*k_SF).x == (n_SF*pid_A).x"
   ]
  },
  {
   "cell_type": "markdown",
   "id": "1d8b3ef6-3fe7-44f8-bf97-71e1053da551",
   "metadata": {
    "jp-MarkdownHeadingCollapsed": true,
    "tags": []
   },
   "source": [
    "Note that the user seemingly does not control the keys required for decryption or re-keying. This means that the Key Server is in control and a colluding Key Server / TranCryptor can decrypt any and all of the data subject's data. Nothing technical stopping such a collusion. In particular:\n",
    "\n",
    "* Any other data generating device, or data source (e.g., a doctor) will have to know the true pid of the data subject before sending it to the TransCryptor.\n",
    "* De-anonymization is trivial and outside of user control."
   ]
  },
  {
   "cell_type": "code",
   "execution_count": null,
   "id": "47777e74-7ada-4616-8574-ff85ac276b40",
   "metadata": {},
   "outputs": [],
   "source": []
  }
 ],
 "metadata": {
  "kernelspec": {
   "display_name": "Python 3 (ipykernel)",
   "language": "python",
   "name": "python3"
  },
  "language_info": {
   "codemirror_mode": {
    "name": "ipython",
    "version": 3
   },
   "file_extension": ".py",
   "mimetype": "text/x-python",
   "name": "python",
   "nbconvert_exporter": "python",
   "pygments_lexer": "ipython3",
   "version": "3.9.7"
  }
 },
 "nbformat": 4,
 "nbformat_minor": 5
}
