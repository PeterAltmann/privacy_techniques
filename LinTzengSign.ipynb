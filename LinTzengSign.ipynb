{
 "cells": [
  {
   "cell_type": "markdown",
   "metadata": {},
   "source": [
    "# The sign function\n",
    "\n",
    "The [sign function](https://en.wikipedia.org/wiki/Sign_function) of a real number $x$ is:\n",
    "\n",
    "\\begin{align}\n",
    "    sgn(x)=\n",
    "    \\begin{cases}\n",
    "        -1, &\\text{if } x < 0\\\\\n",
    "        0, &\\text{if } x = 0\\\\\n",
    "        1, &\\text{if } x > 0\n",
    "    \\end{cases}\n",
    "\\end{align}\n",
    "\n",
    "<!-- The sign function is related to the Heaviside step function, $H(x)$, as follows: $H(x) = \\frac{1}{2}+\\frac{1}{2}sgn(x)$. $H(x)$ can be used as indicator function, and two indicator functions are enough to determine the sign of a number, i.e., $\\mathbf{1}_{x>0}$ and $\\mathbf{1}_{x<0}$. As such, -->\n",
    "\n",
    "Any protocol that can evaluate greater than (GT) can be extended to evalute the sign function. There are a number of GT protocols and some efficient ones will be explored next.\n",
    "\n",
    "Note that there are papers describing sgn() evaluation using HE only (e.g., [ref](https://arxiv.org/pdf/1810.12380.pdf))."
   ]
  },
  {
   "cell_type": "markdown",
   "metadata": {},
   "source": [
    "## The Lin Tzeng protocol\n",
    "\n",
    "The Lin Tzeng protocol is detailed [here](https://doi.org/10.1007%2F11496137_31). It reduces the GT problem to a set intersection problem, which is easy to compute in a privacy preserving way.\n",
    "\n",
    "* Let $s=s_n s_{n-1} \\ldots s_1 \\in \\{0,1\\}^n$ be a binary string of length $n$.\n",
    "* Denote 0-encoding of $s$ as the set $S^0_s=\\{s_n s_{n-1} \\ldots s_{i+1} 1 \\mid s_i = 0, 1 \\leq i \\leq n\\}$\n",
    "* Denote 1-encoding of $s$ as the set $S^1_s=\\{s_n s_{n-1} \\ldots s_{i} \\mid s_i = 1, 1 \\leq i \\leq n\\}$\n",
    "\n",
    "Given two values $(x,y)$, $x > y$ if and only if $S^1_x \\cap S^0_y \\neq \\emptyset$, otherwise $x \\leq y$."
   ]
  },
  {
   "cell_type": "markdown",
   "metadata": {},
   "source": [
    "### Example of the Lin Tzeng protocol with $(x,y)\\in\\mathbb{N}_0$"
   ]
  },
  {
   "cell_type": "code",
   "execution_count": 1,
   "metadata": {},
   "outputs": [],
   "source": [
    "import numpy as np"
   ]
  },
  {
   "cell_type": "code",
   "execution_count": 2,
   "metadata": {},
   "outputs": [],
   "source": [
    "def num_to_arr(n, length=None, print_flag=False):\n",
    "    '''\n",
    "    Takes as input a non negative integer\n",
    "    Returns bin() representation in an array padded with leading zeros up to provided length\n",
    "    '''\n",
    "    arr = list(bin(n)[2:].zfill(length)) if length else list(bin(n)[2:])\n",
    "    if print_flag: print('Binary stream of {}: '.format(n), bin(n)[2:].zfill(length)) if length else list(bin(n)[2:])\n",
    "    return arr\n",
    "\n",
    "def encoding(n, type, length=None, print_flag=False):\n",
    "    '''\n",
    "    Takes as input binary array\n",
    "    Returns 0 or 1 encoding of array\n",
    "    '''\n",
    "    assert (type==0) or (type==1), \"Type must be 0 or 1\"\n",
    "    assert n >= 0, 'Number must be non negative integer'\n",
    "    arr = num_to_arr(n, length, print_flag)\n",
    "    indices = np.where(np.array(arr) == str(type))[0]\n",
    "    s = set()\n",
    "    for i in indices:\n",
    "        encoding = ''.join(arr[:i]+['1'])\n",
    "        s.add(encoding)\n",
    "    if print_flag: print('{}-encoding of {}: {}'.format(type, n, s))\n",
    "    return(s)\n",
    "\n",
    "def max_length(a, b):\n",
    "    return max(len(num_to_arr(a)), len(num_to_arr(b)))\n",
    "\n",
    "def yao_compare(a, b, length=None, print_flag=False):\n",
    "    '''\n",
    "    Takes two non zero integers as input\n",
    "    Returns \n",
    "        * 1-encoding of a\n",
    "        * 0-encoding of b\n",
    "        * True if a <= b\n",
    "    '''\n",
    "    l = length if length else max_length(a, b)\n",
    "    s_a_1 = encoding(a, type=1, length=l, print_flag=print_flag)\n",
    "    s_b_0 = encoding(b, type=0, length=l, print_flag=print_flag)\n",
    "    return s_a_1, s_b_0, s_a_1.intersection(s_b_0)==set()"
   ]
  },
  {
   "cell_type": "code",
   "execution_count": 41,
   "metadata": {},
   "outputs": [],
   "source": [
    "# a, b = 50, 13\n",
    "# _, _, less_or_equal = yao_compare(a, b, print_flag=True)\n",
    "# print('Result of the comparison: ', 'a <= b' if less_or_equal else 'a > b')"
   ]
  },
  {
   "cell_type": "code",
   "execution_count": 46,
   "metadata": {},
   "outputs": [],
   "source": [
    "from ecpy.curves import Curve\n",
    "from Crypto.Hash import SHA256\n",
    "from Crypto.Util import number\n",
    "import random"
   ]
  },
  {
   "cell_type": "code",
   "execution_count": 31,
   "metadata": {},
   "outputs": [],
   "source": [
    "def sha256(m):\n",
    "    '''\n",
    "    Takes input m\n",
    "    Ouputs SHA256(m)\n",
    "    '''\n",
    "    m = m.encode('utf-8')\n",
    "    H = SHA256.new()\n",
    "    H.update(m) \n",
    "    return H.hexdigest()"
   ]
  },
  {
   "cell_type": "code",
   "execution_count": 8,
   "metadata": {},
   "outputs": [],
   "source": [
    "curve = Curve.get_curve('Curve25519')\n",
    "G = curve.generator\n",
    "order = curve.order"
   ]
  },
  {
   "cell_type": "code",
   "execution_count": 60,
   "metadata": {},
   "outputs": [
    {
     "data": {
      "text/plain": [
       "1"
      ]
     },
     "execution_count": 60,
     "metadata": {},
     "output_type": "execute_result"
    }
   ],
   "source": [
    "# Alice gets her encoding and computes the encrypted set for each\n",
    "a = 64865654654\n",
    "b = 54000000000\n",
    "s_1_a, s_0_b, less_or_equal = yao_compare(a, b, print_flag=False)\n",
    "\n",
    "# We need a way to create unique mappings from the encoding sets to a point multiplication set\n",
    "# We cannot use int() because int('00111') == int('0111'). \n",
    "# We can either increment each char by 1 or we simply hash the values\n",
    "# I pick hashing because it is more convential and it is easier to implement\n",
    "\n",
    "alice_values = [int(sha256(x), base=16) for x in s_1_a]\n",
    "bob_values = [int(sha256(x), base=16) for x in s_0_b]\n",
    "\n",
    "r = number.getRandomNBitInteger(256) # Alice random\n",
    "s = number.getRandomNBitInteger(256) # Bob random\n",
    "\n",
    "raAi = [r * alice_values[i] * G for i in range(len(alice_values))]\n",
    "sraAi = [s * raAi[i] for i in range(len(raAi))]\n",
    "\n",
    "inv_r = pow(r, -1, order)\n",
    "random.shuffle(sraAi)\n",
    "\n",
    "sAi = [inv_r * sraAi[i] for i in range(len(sraAi))]  \n",
    "sBi = [s * bob_values[i] * G for i in range(len(bob_values))]\n",
    "len(np.intersect1d([sBi[i].x for i in range(len(sBi))], [sAi[i].x for i in range(len(sAi))]))"
   ]
  },
  {
   "cell_type": "markdown",
   "metadata": {},
   "source": [
    "### Notes\n",
    "\n",
    "The two parties can agree on a max bit length beforehand. In the HEPIP case the max bit length is given by the accuracy of the GPS and the min max values [-90, 90] for lattitude and [-180, 180] for longitude. \n",
    "Once the encoding is done, we can now rely on a PSI protocol for the final comparison. See https://github.com/mcoder/private-set-intersection for possible options. Also see [this paper](https://eprint.iacr.org/2019/723.pdf) that is the basis for Google's PSI protocol called \"join and compute\"."
   ]
  },
  {
   "cell_type": "code",
   "execution_count": null,
   "metadata": {},
   "outputs": [],
   "source": []
  }
 ],
 "metadata": {
  "kernelspec": {
   "display_name": "Python 3 (ipykernel)",
   "language": "python",
   "name": "python3"
  },
  "language_info": {
   "codemirror_mode": {
    "name": "ipython",
    "version": 3
   },
   "file_extension": ".py",
   "mimetype": "text/x-python",
   "name": "python",
   "nbconvert_exporter": "python",
   "pygments_lexer": "ipython3",
   "version": "3.9.7"
  }
 },
 "nbformat": 4,
 "nbformat_minor": 4
}
