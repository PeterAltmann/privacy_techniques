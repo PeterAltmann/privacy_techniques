{
 "cells": [
  {
   "cell_type": "code",
   "execution_count": 1,
   "metadata": {},
   "outputs": [],
   "source": [
    "# These are the ones we need for all the protocols\n",
    "from Crypto.Util import number\n",
    "import numpy as np\n",
    "from phe import paillier\n",
    "from Crypto.PublicKey import ElGamal\n",
    "from ecpy.curves import Curve\n",
    "from Crypto.Hash import SHA256\n",
    "from Crypto.Util import number\n",
    "import random\n",
    "import math"
   ]
  },
  {
   "cell_type": "markdown",
   "metadata": {
    "tags": []
   },
   "source": [
    "# Review on privacy preserving data comparison protocols"
   ]
  },
  {
   "cell_type": "markdown",
   "metadata": {
    "jp-MarkdownHeadingCollapsed": true,
    "tags": []
   },
   "source": [
    "[Jiang et al 2021](https://drive.google.com/file/d/1bn-PekGrzC-xot-B81oTEMRduEbq3asc/view?usp=sharing)\n",
    "\n",
    "* Article reviews SMPC based comparison protocols\n",
    "* Identify str. and weak. of various protocols\n",
    "  * Adversary assumed as curious. \n",
    "  * With and without Trusted Third Party (TTP)\n",
    "  * Comparison by category\n",
    "\n",
    "* **Classification**\n",
    "\n",
    "```\n",
    "├── Secure Data Comparison Protocols\n",
    "    ├── Comparison protocols for curious data owners\n",
    "    │   ├── General Asymmetric Enc.\n",
    "    │   └── Homomorphic Enc.\n",
    "    │       ├── Sign Bit Decryption\n",
    "    │       └── Difference Comparison\n",
    "    └── Comparison protocols for curious cloud servers\n",
    "        ├── With TTP\n",
    "        │   ├── General Asymmetric Enc.\n",
    "        │   └── Homomorphic Enc.\n",
    "        └── Without TTP\n",
    "            └── Homomorphic Enc.\n",
    "```\n",
    "\n",
    "* Asymmetric encryption based solutions always mix in interference items.\n",
    "* **NOTE: THE JIANG PAPER CONTAINS LOTS OF ERRORS. IT IS STILL A WORTHY READ DUE TO THE CATEGORIZATION. CHECK ORIGINAL SOURCES AND BE CAREFUL**\n",
    "\n",
    "**Title numbering below follows the title numbering in the paper**"
   ]
  },
  {
   "cell_type": "markdown",
   "metadata": {
    "tags": []
   },
   "source": [
    "## 3. Comparison protocols for curious data owners"
   ]
  },
  {
   "cell_type": "markdown",
   "metadata": {},
   "source": [
    "General framework is as follows:\n",
    "\n",
    "* Alice has pt $x$ and Bob has pt $y$ and want to perform some joint operation on these data\n",
    "* Alice computes $c_A = E(x)$ and sends it to Bob.\n",
    "* Bob computes $c_B = E(y)$\n",
    "* Bob computes the encrypted magnitude relation using a comparison function $c = \\texttt{comp}(c_A,c_B)$\n",
    "* Alice computes $m = D(c)$ and gets the magnitude relation"
   ]
  },
  {
   "cell_type": "markdown",
   "metadata": {
    "tags": []
   },
   "source": [
    "### 3.2. Protocol with general public key encryption"
   ]
  },
  {
   "cell_type": "markdown",
   "metadata": {},
   "source": [
    "This section of the paper is essentially [Yao's millionare problem](https://en.wikipedia.org/wiki/Yao%27s_Millionaires%27_problem)"
   ]
  },
  {
   "cell_type": "code",
   "execution_count": 2,
   "metadata": {},
   "outputs": [
    {
     "name": "stdout",
     "output_type": "stream",
     "text": [
      "\n",
      "J > I\n"
     ]
    }
   ],
   "source": [
    "# Below is from https://asecuritysite.com/encryption/mill2\n",
    "# The paper is less clear than the example at asecuritysite\n",
    "\n",
    "I = 38 # Alice's money\n",
    "J = 39 # Bob's money\n",
    "\n",
    "assert all([J, I]) > 0, \"Values must be positive integers\"\n",
    "\n",
    "# Alice's parts is basic RSA key gen https://en.wikipedia.org/wiki/RSA_(cryptosystem)\n",
    "p = number.getPrime(128)\n",
    "q = number.getPrime(128)\n",
    "N = p * q # Shared with Bob\n",
    "PHI = (p-1) * (q-1) # Used for the inverse computation\n",
    "e = number.getPrime(12) # Encryption key\n",
    "d = number.inverse(e, PHI) # Decryption key\n",
    "\n",
    "# Both\n",
    "z = number.getPrime(64) # Alice and Bob agree on a new prime, should be L // 2 bits\n",
    "\n",
    "# Bob's parts\n",
    "U = number.getRandomNBitInteger(64)\n",
    "C = pow(U, e, N)\n",
    "\n",
    "# Bob computes \n",
    "\n",
    "m = C - J + 1\n",
    "\n",
    "# print('\\ne=',e,'d=',d,'\\nN=',N,'z=',z)\n",
    "# print('\\nRandom Value U is:\\t',U)\n",
    "# print('C value is (U^e %N):\\t',C)\n",
    "# print(\"Bob shares this value:\", m)\n",
    "\n",
    "# Alice computes\n",
    "Z=[]\n",
    "for x in range(101):\n",
    "    val = (pow(m + x, d, N)) % z\n",
    "    if (x > (I - 1)):\n",
    "        Z.append(val+1)\n",
    "    else:\n",
    "        Z.append(val)\n",
    "\n",
    "# Alice sends Z to Bob, who computes\n",
    "G = U % z\n",
    "\n",
    "# print(\"\\nG value is\",G)\n",
    "# print(\"Z values are:\")\n",
    "# for x in range(0,J):\n",
    "#     print(Z[x],end=' ')\n",
    "\n",
    "# print('\\n\\nCheck G(',G,') against the ',J,'th value (',Z[J-1],')')\n",
    "print(\"\\n I ≥ J\") if (G==Z[J-1]) else print(\"\\nJ > I\")"
   ]
  },
  {
   "cell_type": "markdown",
   "metadata": {},
   "source": [
    "Notes on the above protocol / scheme\n",
    "\n",
    "* The random prime $z$ ensure that there is no identical elements in $\\mathbf{Z}$\n",
    "* No plaintext (pt) is transmitted\n",
    "* Alice gets $m=C - J + 1$, but cannot compute $J$ because Alice has no knowledge of $U$"
   ]
  },
  {
   "cell_type": "markdown",
   "metadata": {
    "tags": []
   },
   "source": [
    "## 3.3. Protocols using HE"
   ]
  },
  {
   "cell_type": "markdown",
   "metadata": {
    "tags": []
   },
   "source": [
    "### 3.3.1 Bitwise methods"
   ]
  },
  {
   "cell_type": "markdown",
   "metadata": {
    "tags": []
   },
   "source": [
    "#### Ling Tzeng"
   ]
  },
  {
   "cell_type": "markdown",
   "metadata": {},
   "source": [
    "The Lin Tzeng protocol is detailed [here](https://doi.org/10.1007%2F11496137_31). It reduces the GT problem to a set intersection problem, which is easy to compute in a privacy preserving way.\n",
    "\n",
    "* Let $s=s_n s_{n-1} \\ldots s_1 \\in \\{0,1\\}^n$ be a binary string of length $n$.\n",
    "* Denote 0-encoding of $s$ as the set $S^0_s=\\{s_n s_{n-1} \\ldots s_{i+1} 1 \\mid s_i = 0, 1 \\leq i \\leq n\\}$\n",
    "* Denote 1-encoding of $s$ as the set $S^1_s=\\{s_n s_{n-1} \\ldots s_{i} \\mid s_i = 1, 1 \\leq i \\leq n\\}$\n",
    "\n",
    "Given two values $(x,y)$, $x > y$ if and only if $S^1_x \\cap S^0_y \\neq \\emptyset$, otherwise $x \\leq y$. In their paper, Lin et al use bitwise encryption as well. Below is an example of this bitwise encryption. I did not fully implement it because it is too tedious. Also, there is a much faster way to do set comparison using the epione protocol, which I will show a bit further down."
   ]
  },
  {
   "cell_type": "markdown",
   "metadata": {},
   "source": [
    "To understand the bitwise encryption it is helpful to see an example. The encryption table for 50, which in binary is $\\texttt{110010}$, is done as follows\n",
    "\n",
    "|   | 1    | 1    | 0    | 0    | 1    | 0    |\n",
    "|---|------|------|------|------|------|------|\n",
    "| 0 | E(r) | E(r) | E(1) | E(1) | E(r) | E(1) |\n",
    "| 1 | E(1) | E(1) | E(r) | E(r) | E(1) | E(r) |\n",
    "\n",
    "* Note that `E(1) if b_i = 1 else E(r)` for the 1 row, and `E(0) if b_i = 0 else E(r)` in the 0 row. \n",
    "* The protocol relies on the fact that $E(1\\times1\\times\\ldots) = E(1) \\times E(1) \\times \\ldots $\n",
    "    1. A person who wishes to compare numbers, simply multiplies the encrypted values in the table with the corresponding table locations\n",
    "        * E.g., 100000 would be $(E(1 \\times r \\times 1 \\times 1 \\times r \\times 1)$ which does not decrypt to 1. \n",
    "        * There is a set intersection if one of the ciphertext multiplications equals 1"
   ]
  },
  {
   "cell_type": "code",
   "execution_count": 3,
   "metadata": {},
   "outputs": [],
   "source": [
    "# These are for the encoding part\n",
    "def num_to_arr(n, length=None, print_flag=False):\n",
    "    '''\n",
    "    Takes as input a non negative integer\n",
    "    Returns bin() representation in an array padded with leading zeros up to provided length\n",
    "    '''\n",
    "    arr = list(bin(n)[2:].zfill(length)) if length else list(bin(n)[2:])\n",
    "    if print_flag: print('Binary stream of {}: '.format(n), bin(n)[2:].zfill(length)) if length else list(bin(n)[2:])\n",
    "    return arr\n",
    "\n",
    "def encoding(n, encoding_type, length=None, print_flag=False):\n",
    "    '''\n",
    "    Takes as input binary array\n",
    "    Returns 0 or 1 encoding of array\n",
    "    '''\n",
    "    assert (encoding_type==0) or (encoding_type==1), \"Type must be 0 or 1\"\n",
    "    assert n >= 0, 'Number must be non negative integer'\n",
    "    arr = num_to_arr(n, length, print_flag)\n",
    "    indices = np.where(np.array(arr) == str(encoding_type))[0]\n",
    "    s = set()\n",
    "    for i in indices:\n",
    "        encoding = ''.join(arr[:i]+['1'])\n",
    "        s.add(encoding)\n",
    "    if print_flag: print('{}-encoding of {}: {}'.format(encoding_type, n, s))\n",
    "    return(s)\n",
    "\n",
    "def max_length(a, b):\n",
    "    return max(len(num_to_arr(a)), len(num_to_arr(b)))\n",
    "\n",
    "def yao_compare(a, b, length=None, print_flag=False):\n",
    "    '''\n",
    "    Takes two non zero integers as input\n",
    "    Returns \n",
    "        * 1-encoding of a\n",
    "        * 0-encoding of b\n",
    "        * True if a <= b\n",
    "    '''\n",
    "    l = length if length else max_length(a, b)\n",
    "    s_a_1 = encoding(a, encoding_type=1, length=l, print_flag=print_flag)\n",
    "    s_b_0 = encoding(b, encoding_type=0, length=l, print_flag=print_flag)\n",
    "    return s_a_1, s_b_0, s_a_1.intersection(s_b_0)==set()"
   ]
  },
  {
   "cell_type": "code",
   "execution_count": 5,
   "metadata": {},
   "outputs": [
    {
     "name": "stdout",
     "output_type": "stream",
     "text": [
      "Binary stream of 300:  100101100\n",
      "1-encoding of 300: {'1001', '1001011', '100101', '1'}\n",
      "Binary stream of 200:  011001000\n",
      "0-encoding of 200: {'01101', '0111', '1', '01100101', '011001001', '0110011'}\n",
      "Result of the comparison:  a > b\n"
     ]
    }
   ],
   "source": [
    "a, b = 300, 200 # I use very small values because the encryption later is very tedious\n",
    "_, _, less_or_equal = yao_compare(a, b, print_flag=True)\n",
    "print('Result of the comparison: ', 'a <= b' if less_or_equal else 'a > b')"
   ]
  },
  {
   "cell_type": "markdown",
   "metadata": {},
   "source": [
    "**Note:** We must assume that Alice and Bob have communicated some length prior to their exchanges"
   ]
  },
  {
   "cell_type": "code",
   "execution_count": 7,
   "metadata": {},
   "outputs": [],
   "source": [
    "alice_one_encoding, bob_zero_encoding = encoding(a, encoding_type=1, length=len(num_to_arr(a))+0, print_flag=False), encoding(b, encoding_type=0, length=len(num_to_arr(a))+1, print_flag=False)"
   ]
  },
  {
   "cell_type": "code",
   "execution_count": 4,
   "metadata": {},
   "outputs": [
    {
     "name": "stdout",
     "output_type": "stream",
     "text": [
      "Public key components: \n",
      "(g=107027176993253962048399027039980147559121710247963480063020185797615652236905, p=109819709321344122428449897431024610442361350555968641638837172957132041747639,y=50841775769456641206548990463374839380640682038589325317672966467565150937483)\n",
      "Private key component: \n",
      "(x=95570804996811909230946955068140860338902194513027938968984848782573717445093)\n",
      "CPU times: user 2.19 s, sys: 33.6 ms, total: 2.22 s\n",
      "Wall time: 2.24 s\n"
     ]
    }
   ],
   "source": [
    "%%time\n",
    "# Alice generates encryption parameters\n",
    "public_key, private_key = paillier.generate_paillier_keypair()\n",
    "key = ElGamal.generate(256, ElGamal.Random.urandom) # this can take about 2 seconds\n",
    "\n",
    "print(f'Public key components: \\n(g={key.g}, p={key.p},y={key.y})')\n",
    "print(f\"Private key component: \\n(x={key.x})\")\n",
    "\n",
    "# Alice sets parameters\n",
    "g = int(key.g)\n",
    "p = int(key.p)\n",
    "x = int(key.x)\n",
    "y = pow(g,x,p)\n",
    "\n",
    "# Encrypt with a = g^k mod p; b = y^k * m mod p\n",
    "# Decrypt with b / a^x mod p"
   ]
  },
  {
   "cell_type": "code",
   "execution_count": 10,
   "metadata": {},
   "outputs": [],
   "source": [
    "# These are for the encryption part\n",
    "def ElGamalEncrypt(g, p, y, m):\n",
    "    k = number.getRandomNBitInteger(p.bit_length() // 2 - 1) # to make sure that the random values are from G_q where p = 2q + 1\n",
    "    a = pow(g, k, p)\n",
    "    b = pow(y, k, p) * m % p\n",
    "    return a, b\n",
    "\n",
    "def table_creator(n):\n",
    "    '''\n",
    "    n is a binary string\n",
    "    '''\n",
    "    row_zeros = {}\n",
    "    row_ones = {}\n",
    "    counter = 0\n",
    "    for i in n:\n",
    "        if i == '1':\n",
    "            row_ones[str(counter)] = ElGamalEncrypt(g,p,y,1)\n",
    "            r = number.getRandomRange(2, 2 ** (p.bit_length() // 2 - 1))\n",
    "            row_zeros[str(counter)] = ElGamalEncrypt(g,p,y,r)\n",
    "            counter += 1\n",
    "        else:\n",
    "            row_zeros[str(counter)] = ElGamalEncrypt(g,p,y,1)\n",
    "            r = number.getRandomRange(2, 2 ** (p.bit_length() // 2 -1))\n",
    "            row_ones[str(counter)] = ElGamalEncrypt(g,p,y,r)\n",
    "            counter += 1\n",
    "    return row_zeros, row_ones"
   ]
  },
  {
   "cell_type": "code",
   "execution_count": 11,
   "metadata": {},
   "outputs": [
    {
     "name": "stdout",
     "output_type": "stream",
     "text": [
      "Alice sends to Bob the following tables (zeros first then ones):\n"
     ]
    },
    {
     "data": {
      "text/plain": [
       "[({'0': (69008217014735915427783864983428809178173839962654222796272592334751045965492,\n",
       "    18609571965873580878488612143606587992977521772424637072037013011849167755767),\n",
       "   '1': (72936577729180277451182315346789120221740165677131388500803423752214248292992,\n",
       "    85113732599435533631345683226127330058918860213801673018185916955218872505621)},\n",
       "  {'0': (1048487768014948844699806790008887055150519547173583788108938701478784587023,\n",
       "    32969486044184613075916328412032056344426398902028926007372127542336873076467),\n",
       "   '1': (71768786448810702137540084329700144472308397745412846958944251992203479738228,\n",
       "    30628653186093156945520273331981337748056586916743117685132545270261910638703)}),\n",
       " ({'0': (260209436992711926725797682805896377290724387705630345288182748742277323094,\n",
       "    13894790207823595887712449411187210048365993858832375685569384298610770759783)},\n",
       "  {'0': (66585989557566998310954944181491891401289615448336700713010475395604393022577,\n",
       "    55235049166810538052228134953860387533498587823748155363994108437648867572504)})]"
      ]
     },
     "execution_count": 11,
     "metadata": {},
     "output_type": "execute_result"
    }
   ],
   "source": [
    "# This returns the encodings for each element in alices 1-encoding set\n",
    "alice_to_bob = []\n",
    "for i in alice_one_encoding:\n",
    "    alice_to_bob.append(table_creator(i))\n",
    "    \n",
    "print('Alice sends to Bob the following tables (zeros first then ones):')\n",
    "alice_to_bob"
   ]
  },
  {
   "cell_type": "code",
   "execution_count": 12,
   "metadata": {},
   "outputs": [
    {
     "data": {
      "text/plain": [
       "['11', '1']"
      ]
     },
     "execution_count": 12,
     "metadata": {},
     "output_type": "execute_result"
    }
   ],
   "source": [
    "[x for x in alice_one_encoding] # just to make sure these are the same elements as in the set assuming Alice's number is 3"
   ]
  },
  {
   "cell_type": "markdown",
   "metadata": {},
   "source": [
    "In this simple example, we know that the element we will find is 11 (shared element between 1-encoding of 3 and 0-encoding of 2), so we use only that as example."
   ]
  },
  {
   "cell_type": "code",
   "execution_count": 13,
   "metadata": {},
   "outputs": [
    {
     "data": {
      "text/plain": [
       "({'0': (69008217014735915427783864983428809178173839962654222796272592334751045965492,\n",
       "   18609571965873580878488612143606587992977521772424637072037013011849167755767),\n",
       "  '1': (72936577729180277451182315346789120221740165677131388500803423752214248292992,\n",
       "   85113732599435533631345683226127330058918860213801673018185916955218872505621)},\n",
       " {'0': (1048487768014948844699806790008887055150519547173583788108938701478784587023,\n",
       "   32969486044184613075916328412032056344426398902028926007372127542336873076467),\n",
       "  '1': (71768786448810702137540084329700144472308397745412846958944251992203479738228,\n",
       "   30628653186093156945520273331981337748056586916743117685132545270261910638703)})"
      ]
     },
     "execution_count": 13,
     "metadata": {},
     "output_type": "execute_result"
    }
   ],
   "source": [
    "# We look at values for encoded '11' that Alice sends to Bob\n",
    "# Note how Alice needs to send E(1) and E(r) for each i in '11', i.e., a total of four values where each value is a ciphertext pair under the El Gamal encryption\n",
    "alice_to_bob[0]"
   ]
  },
  {
   "cell_type": "code",
   "execution_count": 14,
   "metadata": {},
   "outputs": [
    {
     "data": {
      "text/plain": [
       "(1, 1)"
      ]
     },
     "execution_count": 14,
     "metadata": {},
     "output_type": "execute_result"
    }
   ],
   "source": [
    "# We know where E(1) is and we use that to test if above has worked by decrypted the E(1) locations\n",
    "pow(pow(alice_to_bob[0][1]['0'][0], x, p), -1, p) * alice_to_bob[0][1]['0'][1] % p,\\\n",
    "pow(pow(alice_to_bob[0][1]['1'][0], x, p), -1, p) * alice_to_bob[0][1]['1'][1] % p"
   ]
  },
  {
   "cell_type": "code",
   "execution_count": 15,
   "metadata": {},
   "outputs": [
    {
     "data": {
      "text/plain": [
       "(67765509584254404343994876521810025248,\n",
       " 158361609190254901501992239896279692003)"
      ]
     },
     "execution_count": 15,
     "metadata": {},
     "output_type": "execute_result"
    }
   ],
   "source": [
    "# Just to ensure that the other values are random and not 1\n",
    "pow(pow(alice_to_bob[0][0]['0'][0], x, p), -1, p) * alice_to_bob[0][0]['0'][1] % p,\\\n",
    "pow(pow(alice_to_bob[0][0]['1'][0], x, p), -1, p) * alice_to_bob[0][0]['1'][1] % p"
   ]
  },
  {
   "cell_type": "code",
   "execution_count": 16,
   "metadata": {},
   "outputs": [
    {
     "data": {
      "text/plain": [
       "((1048487768014948844699806790008887055150519547173583788108938701478784587023,\n",
       "  32969486044184613075916328412032056344426398902028926007372127542336873076467),\n",
       " (71768786448810702137540084329700144472308397745412846958944251992203479738228,\n",
       "  30628653186093156945520273331981337748056586916743117685132545270261910638703))"
      ]
     },
     "execution_count": 16,
     "metadata": {},
     "output_type": "execute_result"
    }
   ],
   "source": [
    "# Bob now takes Alices table values based on his own indexes and multiplies the values together.\n",
    "# Bob has to pick values for '11' since that is his zero encoding. Again we only care about the '11' element in the set.\n",
    "alice_to_bob[0][1]['0'], alice_to_bob[0][1]['1']"
   ]
  },
  {
   "cell_type": "code",
   "execution_count": 18,
   "metadata": {},
   "outputs": [
    {
     "data": {
      "text/plain": [
       "1"
      ]
     },
     "execution_count": 18,
     "metadata": {},
     "output_type": "execute_result"
    }
   ],
   "source": [
    "# Bob essentially multiplies the El Gamal (a,b) b values corresponding to the table index he has for '11'\n",
    "# Note that the El Gamal b value is not Bob's number b but the second element of the ciphertext pair\n",
    "b_multiples = alice_to_bob[0][1]['0'][1] * alice_to_bob[0][1]['1'][1] % p\n",
    "\n",
    "# Alice can now check if the multiplications equal 1\n",
    "# Note that we have not yet scalarized these values\n",
    "a_multiples = pow(pow(alice_to_bob[0][1]['0'][0], x, p), -1, p) * pow(pow(alice_to_bob[0][1]['1'][0], x, p), -1, p)\n",
    "b_multiples * a_multiples % p"
   ]
  },
  {
   "cell_type": "markdown",
   "metadata": {},
   "source": [
    "**Scalaring**\n",
    "* We can map $E(m)$ to a random value with a scalarizing function $S: E(m) \\longrightarrow E(m^k)$\n",
    "* When $m=1$ the scalarized value still decrypts without a problem\n",
    "* When $m \\ne 1$ then the scalarized value will no longer decrypt to $r_i$\n",
    "* Scalaring hides any value from being exposed to Alice.\n",
    "    1. E.g., if Alice has value '1001' and bob has value '1000' then Alice would get $E(1 \\cdot 1 \\cdot 1 \\cdot r_3)$ and since Alice knows the value of $r_3$ she now knows Bob's number"
   ]
  },
  {
   "cell_type": "code",
   "execution_count": 19,
   "metadata": {},
   "outputs": [],
   "source": [
    "# Alice can tell what element they had in common using the above.\n",
    "# Bob must hide the values using scalaring\n",
    "scaling_value = number.getRandomRange(2, 2 ** p.bit_length() // 2 - 1)\n",
    "b_multiples_scaled = pow(alice_to_bob[0][1]['0'][1], scaling_value, p) * pow(alice_to_bob[0][1]['1'][1], scaling_value, p) % p\n",
    "a_multiplies_scaled = pow(alice_to_bob[0][1]['0'][0] * alice_to_bob[0][1]['1'][0], scaling_value, p)"
   ]
  },
  {
   "cell_type": "code",
   "execution_count": 20,
   "metadata": {},
   "outputs": [
    {
     "name": "stdout",
     "output_type": "stream",
     "text": [
      "Alice decrypts the scalarized product:  1\n"
     ]
    }
   ],
   "source": [
    "# Alice now tests that the product of the scalarized values are equal to 1\n",
    "print('Alice decrypts the scalarized product: ', b_multiples_scaled * pow(pow(a_multiplies_scaled, x, p), -1, p) % p)"
   ]
  },
  {
   "cell_type": "markdown",
   "metadata": {
    "tags": []
   },
   "source": [
    "#### Lin Tzeng with Epione comparison instead of bitwise (THIS IS MY OWN COMBINATION AND HAS NOT BEEN REVIEWED OR CHECKED BY OTHERS)"
   ]
  },
  {
   "cell_type": "markdown",
   "metadata": {},
   "source": [
    "The bitwise approach above seems to be a mess to implement.\n",
    "A much easier way is to use the epione protocol for Private Set Intersection"
   ]
  },
  {
   "cell_type": "code",
   "execution_count": 22,
   "metadata": {},
   "outputs": [],
   "source": [
    "# We use a hashing function to uniquely map set elements in the encodings to integer values we can use for set intersection proofs\n",
    "def sha256(m):\n",
    "    '''\n",
    "    Takes input m\n",
    "    Ouputs SHA256(m)\n",
    "    '''\n",
    "    m = m.encode('utf-8')\n",
    "    H = SHA256.new()\n",
    "    H.update(m) \n",
    "    return H.hexdigest()"
   ]
  },
  {
   "cell_type": "code",
   "execution_count": 23,
   "metadata": {},
   "outputs": [],
   "source": [
    "# Alice and Bob agree on a curve and a generator point\n",
    "curve = Curve.get_curve('Curve25519')\n",
    "G = curve.generator\n",
    "order = curve.order"
   ]
  },
  {
   "cell_type": "code",
   "execution_count": 27,
   "metadata": {},
   "outputs": [
    {
     "name": "stdout",
     "output_type": "stream",
     "text": [
      "a > b\n"
     ]
    }
   ],
   "source": [
    "# Alice gets her encoding and computes the encrypted set for each\n",
    "# Note how we can use a lot larger numbers now with ease\n",
    "a = 54000000001\n",
    "b = 54000000000\n",
    "s_1_a, s_0_b, less_or_equal = yao_compare(a, b, print_flag=False) # the (0,1)-encoding\n",
    "\n",
    "# Create sets of hash digests from the encoding elements\n",
    "alice_values = [int(sha256(x), base=16) for x in s_1_a]\n",
    "bob_values = [int(sha256(x), base=16) for x in s_0_b]\n",
    "\n",
    "# Alice hides her true values using a random point and sends to Bob. Note that finding r is assumed hard.\n",
    "r = number.getRandomNBitInteger(256) # Alice random\n",
    "raAi = [r * alice_values[i] * G for i in range(len(alice_values))]\n",
    "inv_r = pow(r, -1, order)\n",
    "\n",
    "# Bob multiplies the values he gets from Alice with random and sends back to Alice\n",
    "s = number.getRandomNBitInteger(256) # Bob random\n",
    "sBi = [s * bob_values[i] * G for i in range(len(bob_values))] # Bob multiplies his values with a random s\n",
    "sraAi = [s * raAi[i] for i in range(len(raAi))] # Bob multiplies Alices values with random s\n",
    "random.shuffle(sraAi) # Bob shuffles the elements so that order is not preserved\n",
    "\n",
    "# Alice takes the shuffled values and undoes the multiplication with r\n",
    "sAi = [inv_r * sraAi[i] for i in range(len(sraAi))]\n",
    "\n",
    "# Alice now checks for a set intersection\n",
    "print('a > b') if len(np.intersect1d([sBi[i].x for i in range(len(sBi))], [sAi[i].x for i in range(len(sAi))])) else print('a ≤ b')"
   ]
  },
  {
   "cell_type": "markdown",
   "metadata": {},
   "source": [
    "**Note that we can use any encryption scheme for the private set intersection that relies on the [Diffie Hellman assumptions](https://en.wikipedia.org/wiki/Computational_Diffie%E2%80%93Hellman_assumption)**. All we need is that reversing the multiplication with random values to be computationally intractable. I used Elliptic Curves because I have already done the RSA method elsewhere. I have copy pasted the RSA method below. The problem is that it does not work well with very large numbers."
   ]
  },
  {
   "cell_type": "code",
   "execution_count": null,
   "metadata": {},
   "outputs": [],
   "source": [
    "## RSA based Yao\n",
    "\n",
    "# p = number.getPrime(128) # bit size prime # Only Bob knows\n",
    "# q = number.getPrime(128) # bit size prime # Only Bob knows\n",
    "# N = p * q\n",
    "# assert p!=q, 'p and q are the same'\n",
    "\n",
    "# phi = (p-1) * (q-1) # Only Bob knows\n",
    "# e = number.getPrime(32) # bit size prime\n",
    "# d = number.inverse(e, phi)\n",
    "\n",
    "# a_value = 4\n",
    "# b_value = 5\n",
    "\n",
    "# U = number.getRandomNBitInteger(28) # random number generated by Alice, not shared with Bob\n",
    "# m = pow(U, e, N) - a_value # Alice does this.\n",
    "# z = number.getPrime(16) # Bit size prime. Known to both.\n",
    "\n",
    "# # Z = []\n",
    "# # for x in range(0,11):\n",
    "# #     Z.append(pow(m + x, d, N) % z)\n",
    "    \n",
    "# Z = pow(m + b_value, d, N) % z\n",
    "\n",
    "# print('Public key is:\\nN: %d\\ne: %d' %(N,e))\n",
    "# print('\\nPrivate key known to Bob is:\\nN: %d\\nd: %d' %(N,d))\n",
    "# print('\\nAlice picks random U:', U)\n",
    "# print('Alice sends to Bob m: {}'.format(m))\n",
    "# print('Both agree on prime z: {}'.format(z))\n",
    "# print('\\nAlice computes U mod z:', U % z)\n",
    "# print('Bob sends to Alice (m + bob_value)^b % N % z: {}'.format(Z))\n",
    "# print('Alice checks equality:', Z == U % z)"
   ]
  },
  {
   "cell_type": "markdown",
   "metadata": {
    "tags": []
   },
   "source": [
    "#### Hu et al"
   ]
  },
  {
   "cell_type": "markdown",
   "metadata": {},
   "source": [
    "Original paper found [here](https://doi.org/10.1109/TIP.2016.2568460)\n",
    "\n",
    "* Another encoding of bitstream based method\n",
    "* Computes the magnitude relationship of two values by bit in binary\n",
    "* Expresses values as $n$-bit bitstreams\n",
    "    1. Alice's values are $x=x_n x_{n-1} \\ldots x_{1}$\n",
    "    2. Bob's values are $y=y_n y_{n-1} \\ldots y_{1}$\n",
    "* Alice does $c=c_n c_{n-1} \\ldots c_{1}$, where $c_i = E(x_i), 1 \\leq i \\leq n$\n",
    "* Alice sends $c$ and the public key to Bob\n",
    "* Bob computes $E(1) \\text{ and } E(-1)$\n",
    "* Bob then compares the two streams as follows\n",
    "    1. If $i = n$\n",
    "        * $a_i = x_i \\times (1-y_i)$\n",
    "        * $b_i = y_i \\times (1-x_i)$\n",
    "    2. else \n",
    "        * $a_i = (1-b_{i+1}) \\times (a_{i+1} + (1-a_{i+1})) \\times x_i \\times (1-y_i)$\n",
    "        * $b_i = (1-a_{i+1}) \\times (b_{i+1} + (1-b_{i+1})) \\times y_i \\times (1-x_i)$\n",
    "    3. If $a_1 = 1$ then we know that $x \\gt y$\n",
    "* Uses LWE with SIMD support for efficiency\n",
    "\n",
    "Below I only show how the method works. I will not encrypt but show it using plaintext that can be encrypted with similar results."
   ]
  },
  {
   "cell_type": "code",
   "execution_count": 103,
   "metadata": {},
   "outputs": [],
   "source": [
    "# We get two values to compare\n",
    "A = number.getRandomNBitInteger(8)\n",
    "B = number.getRandomNBitInteger(8)"
   ]
  },
  {
   "cell_type": "code",
   "execution_count": 102,
   "metadata": {},
   "outputs": [],
   "source": [
    "# binary reprentation of the two values\n",
    "A, B = bin(A)[2:], bin(B)[2:]"
   ]
  },
  {
   "cell_type": "code",
   "execution_count": 28,
   "metadata": {},
   "outputs": [],
   "source": [
    "def HuComparison(A,B):\n",
    "    assert (A >= 0) == (B >= 0), 'Use non negative integers'\n",
    "    A, B = bin(A)[2:], bin(B)[2:]  #remove the 0b prefix\n",
    "    \n",
    "    if len(A) < len(B):\n",
    "        A = A.zfill(len(B))  \n",
    "    else:\n",
    "        B = B.zfill(len(A))\n",
    "    \n",
    "    a = []\n",
    "    b = []    \n",
    "    \n",
    "    a.append(int(A[0]) * (1 - int(B[0]))) # Only multiplication and addition used ie SIMD HE friendly\n",
    "    b.append(int(B[0]) * (1 - int(A[0]))) # Only multiplication and addition used ie SIMD HE friendly\n",
    "    \n",
    "    for i in range(1, len(A)):        \n",
    "        a_i = (1 - b[i-1]) * (a[i-1] + (1 - a[i-1]) * int(A[i]) * (1 - int(B[i]))) # Only multiplication and addition used ie SIMD HE friendly\n",
    "        b_i = (1 - a[i-1]) * (b[i-1] + (1 - b[i-1]) * int(B[i]) * (1 - int(A[i]))) # Only multiplication and addition used ie SIMD HE friendly\n",
    "        a.append(a_i)\n",
    "        b.append(b_i)\n",
    "    return a[::-1][0] # We only care about LSB of original bitsream"
   ]
  },
  {
   "cell_type": "code",
   "execution_count": 29,
   "metadata": {},
   "outputs": [
    {
     "data": {
      "text/plain": [
       "(1, 0, 0, 0, 1, 0)"
      ]
     },
     "execution_count": 29,
     "metadata": {},
     "output_type": "execute_result"
    }
   ],
   "source": [
    "HuComparison(1024,32), HuComparison(32,1024), HuComparison(32,32), HuComparison(32,32), HuComparison(1,0), HuComparison(0,0)"
   ]
  },
  {
   "cell_type": "markdown",
   "metadata": {
    "tags": []
   },
   "source": [
    "### 3.2. Difference comparison method"
   ]
  },
  {
   "cell_type": "markdown",
   "metadata": {},
   "source": [
    "These protocols do not work on bitstreams but instead work on entire words"
   ]
  },
  {
   "cell_type": "markdown",
   "metadata": {
    "tags": []
   },
   "source": [
    "#### Kumar & Gupta"
   ]
  },
  {
   "cell_type": "markdown",
   "metadata": {},
   "source": [
    "Full paper [here](https://arxiv.org/pdf/1310.8063.pdf)\n",
    "\n",
    "**Protocol A**\n",
    "\n",
    "* A very simple solution to the Yao's millionare problem using HE\n",
    "* Alice generates $(pk,sk)$\n",
    "* Alice has a number $a$ and computes $E(a)$ and sends this to Bob\n",
    "* Bob has a number $b$ and computes $E(b)$ \n",
    "* Bob computes $V = E(r) \\oplus E(a-b)$ where $r \\longleftarrow \\texttt{rand()}$. \n",
    "    * Note that $E(a)-E(b)=E(a-b)$.\n",
    "* Alice decrypts $V$ to obtain $(a-b)\\oplus r$\n",
    "* Alice sends the most significant bit to Bob\n",
    "* Bob takes the most significant bit sent by Alice and compares it with the MSB of $r$\n",
    "* Bob shares the results with Alice\n",
    "\n",
    "**Protocol B**\n",
    "\n",
    "* Alice and Bob agree on an order preserving function $F: A \\mapsto B$  (where $|A| \\ll |B|$) s.t. $a < b \\iff F(a) < F(b), \\forall a,b \\in A$\n",
    "    * E.g., $f(x)=2 x$ is order preserving\n",
    "* Trent does not know $F$\n",
    "* Alice sends $F(a)$ to Trent\n",
    "* Bob sends $F(b)$ to Trent\n",
    "* Trent shares `F(a) < F(B)`\n",
    "\n",
    "The paper defines the following two constraints of an order preserving function\n",
    "\n",
    "1. $(f_i(1) - f_i(0)) \\gt \\sum_{j=1}^{i-1}(f_j(1) - f_j(0))$\n",
    "2. $f_i(1) \\gt f_i(0), \\forall i$ \n",
    "\n",
    "I.e., the difference between two $i$th position values must be larger than the sum of all previous differences and the function must map $1$ to a greater value than $0$ for all positions. An example follows.\n",
    "\n",
    "| f_i | f_i(0) | f_i(1) | f_i(1)-f_i(0) | \\sum_{j=1}^{i}(f_j(1) - f_j(0)) |\n",
    "|-----|--------|--------|---------------|---------------------------------|\n",
    "| f_1 | 2      | 5      | 3             | 3                               |\n",
    "| f_2 | 1      | 7      | 6             | 9                               |\n",
    "| f_3 | 7      | 17     | 10            | 19                              |\n",
    "| f_4 | 2      | 22     | 20            | 39                              |"
   ]
  },
  {
   "cell_type": "code",
   "execution_count": 30,
   "metadata": {},
   "outputs": [],
   "source": [
    "# This is just an example of an order preserving function. It is not the same one as shown in the paper.\n",
    "# It would have been smarter to start with the f_i(0) and f_i(1) values as shown in the paper but whatever\n",
    "\n",
    "def sequence_generator(n, k=10):\n",
    "    '''\n",
    "    Outputs an array with sum difference values\n",
    "    '''\n",
    "    sequence = []\n",
    "    for i in range(n):\n",
    "        sequence.append(sum(sequence) + number.getRandomInteger(k))\n",
    "    return sequence\n",
    "\n",
    "def order_preserving_function(n, k=10):\n",
    "    \"\"\"\n",
    "    Outputs sequence of sums, and the corresponding lookuptable values\n",
    "    \"\"\"\n",
    "    s = sequence_generator(n, k)\n",
    "    f_i_1 = []\n",
    "    f_i_0 = []\n",
    "    for i in range(n):\n",
    "        r = 0\n",
    "        while r == 0:\n",
    "            r = number.getRandomInteger(k)\n",
    "        f_i_1.append(s[i]+r)\n",
    "        f_i_0.append(f_i_1[i] - s[i])\n",
    "    return s, f_i_0, f_i_1\n",
    "\n",
    "def order_preserving_function_bin_value(n, opf=None, k=10):\n",
    "    '''\n",
    "    Outputs the order preserving function output of an integer array\n",
    "    '''\n",
    "    if opf:\n",
    "        f_i_0, f_i_1 = opf[0], opf[1]\n",
    "    else:\n",
    "        _, f_i_0, f_i_1 = order_preserving_function(math.ceil(math.log2(max(n))), k)\n",
    "    \n",
    "    result = []\n",
    "    for i in n:\n",
    "        temp = []\n",
    "        x = bin(i)[2:][::-1]   \n",
    "        for i in range(len(x)):\n",
    "            if int(x[i]) == 0:\n",
    "                temp.append(f_i_0[i])\n",
    "            else:\n",
    "                temp.append(f_i_1[i])\n",
    "        result.append(sum(temp))\n",
    "    return result"
   ]
  },
  {
   "cell_type": "code",
   "execution_count": 32,
   "metadata": {},
   "outputs": [
    {
     "data": {
      "text/plain": [
       "[3923, 755, 755, 237, 3421]"
      ]
     },
     "execution_count": 32,
     "metadata": {},
     "output_type": "execute_result"
    }
   ],
   "source": [
    "order_preserving_function_bin_value([10,2,2,0,8])"
   ]
  },
  {
   "cell_type": "markdown",
   "metadata": {},
   "source": [
    "**Protocol C**\n",
    " \n",
    "The paper introduces a way of using 1 out of 2 oblivious transfer to construct a random order preserving function (OPF) in such a way that neither Alice nor Bob know the true nature of the OPF. All they know is that it preservers the order at a certain point. I will skip this protocol because I look closer at oblivious transfer based techniques at another point in time."
   ]
  },
  {
   "cell_type": "markdown",
   "metadata": {
    "tags": []
   },
   "source": [
    "### Comparison of protocols"
   ]
  },
  {
   "cell_type": "markdown",
   "metadata": {},
   "source": [
    "* Transmission of public key is not considered\n",
    "* Assume that $n$ numbers are compared\n",
    "\n",
    "**Performance comparison**\n",
    "\n",
    "| Protocol | Comp. complexity | Data amount   | Tx time   |\n",
    "|----------|------------------|---------------|-----------|\n",
    "| Yao      | $O(n N)$         | $(1+N)C_n^2$  | $3C_n^2$  |\n",
    "| Lin      | $O(n k)$         | $4kC_n^2$     | $2C_n^2$  |\n",
    "| Hu       | $O(n)$           | $2C_n^2$      | $2C_n^2$  |\n",
    "| Kumar    | $O(n)$           | $2C_n^2$      | $2C_n^2$  |\n",
    "\n",
    "**Security comparison**\n",
    "\n",
    "| Protocol | Data leak to A | Data leak to B | Probability of A deriving pt | Probability of B deriving pt |\n",
    "|----------|----------------|----------------|------------------------------|------------------------------|\n",
    "| Yao      | None           | None           | $1/N$                        | $1/N$                        |\n",
    "| Lin      | None           | None           | $1/N$                        | $1/N$                        |\n",
    "| Hu       | None           | None           | None                         | None                         |\n",
    "| Kumar    | $r(x-y)$       | None           | None                         | None                         |"
   ]
  },
  {
   "cell_type": "markdown",
   "metadata": {
    "tags": []
   },
   "source": [
    "## 4. Comparison protocols using a TTP"
   ]
  },
  {
   "cell_type": "markdown",
   "metadata": {},
   "source": [
    "* Cases where TTP are involved\n",
    "* Here the data owner does not take part in the comparison, but instead only provides data\n",
    "* Data owner sends ciphertext to other entity and private key to TTP\n",
    "* Everyone is assumed to be curious about the data owner's data\n",
    "* It is up to the entity to transform the ciphertext in such a way that the TTP does not access the underlying data\n",
    "* The TTP converts data into comparable data objects and sorts the data\n",
    "* TTP shares the sorting results with the entity\n",
    "\n",
    "A general framework is \n",
    "\n",
    "1. Data owner generates $(pk,sk)$ and sends $sk$ to Trent\n",
    "2. Encryption is $E_{pk}(\\bullet)$\n",
    "3. Decryption is $D_{sk}(\\bullet)$\n",
    "4. The ciphertext of $E_{pk}(x_i)$ is $c_i$.\n",
    "5. The TTP can sort $D_{sk}(c_i), 1\\leq i \\leq \\vert c \\vert$ but cannot learn any singe $x_i$"
   ]
  },
  {
   "cell_type": "markdown",
   "metadata": {
    "tags": []
   },
   "source": [
    "### 4.2. Protocols with asymmetric encryption"
   ]
  },
  {
   "cell_type": "markdown",
   "metadata": {},
   "source": [
    "Kaghazgaran et al does two party comparison as detailed [here](https://doi.org/10.1109/WICT.2011.6141405)\n",
    "\n",
    "* Alice generates $(pk,sk)$ and shares $sk$ with Trent and $pk$ with Bob\n",
    "* Alice computes $E_{pk}(x_i),1 \\leq i \\leq n$\n",
    "* Bob picks a random integer $r, 1\\lt r \\lt L$ and computes the values of $c_i = E_{pk}(x_i)-r$\n",
    "* Trent computes $m_{i,j} = D_{sk}(c_i + j), 1 \\leq j \\leq L$\n",
    "* Trent picks a random value $s \\longleftarrow \\texttt{rand()}$ and computes $M_{i,j} = m_{i,j} + s$\n",
    "* Bob can now look at the $l$-th number of the array sent by Trent and sort the data.\n",
    "\n",
    "The above seems to be a combination of several of the protocols above so I will not implement it here."
   ]
  },
  {
   "cell_type": "markdown",
   "metadata": {},
   "source": [
    "#### 4.3. Protocols with HE\n",
    "\n",
    "Kaghazgaran et al also propose a more efficient version of their protocol detailed in 4.2. by using HE for the addition of random values."
   ]
  },
  {
   "cell_type": "markdown",
   "metadata": {},
   "source": [
    "## 5. Comparison protocols without a TTP"
   ]
  },
  {
   "cell_type": "markdown",
   "metadata": {},
   "source": [
    "Similar to 4. above but Alice never sends $sk$ to Trent. \n",
    "\n",
    "* Instead of Trent, a compute resources gets an incomplete decryption algorithm $D'(\\bullet)$ and a sorting algorithm $F(\\bullet)$ specific to the encryption used and Alice's $sk$"
   ]
  },
  {
   "cell_type": "markdown",
   "metadata": {},
   "source": [
    "### 5.2. Protocols with HE"
   ]
  },
  {
   "cell_type": "markdown",
   "metadata": {},
   "source": [
    "* Hsu ([source](https://ieeexplore.ieee.org/stamp/stamp.jsp?arnumber=6216412&casa_token=c1c3bFzIXtYAAAAA:dd9Bbc2GpJCk12Zza7_X5MoQrp0VunFciprf5GYXPBCWKR4T1ftmXnalRA24iN2NJIUxbdsqUH81&tag=1)) and further work by Bellafqira ([source](https://arxiv.org/pdf/1704.00457.pdf)) proposes a protocol based on threshold. These methods eliminate random values and are deemed less secure by the review authors.\n",
    "* Jiang has another method that is more secure but I will have to look into it in depth to see how it works. **Edit**: It is the same as the random value scalaring and then just substract."
   ]
  },
  {
   "cell_type": "markdown",
   "metadata": {},
   "source": [
    "# My personal notes on the review paper and the procols shown"
   ]
  },
  {
   "cell_type": "markdown",
   "metadata": {},
   "source": [
    "* In essence, you either encrypt the entire msg or bitwise. \n",
    "* Bitwise ones require encoding methods and 'tricks' to convert a number to \n",
    "    1. something where a specific bit can be compared\n",
    "    2. sets which can then be compared\n",
    "    3. arrays with values where some ith value is compared\n",
    "* msg based ones often rely on multiplications with random values, their inverses, and order shuffling\n",
    "* msg based ones above rely on the DH assumptions\n",
    "\n",
    "I did not do an analysis, but I believe that the best one is a combination of the Lin encoding where hashed set elements are used for the epione private intersection cardinality protocol. The only problem I see with that one is that it requires the parties to agree on some msg length. Note that you can `zfill` both parties binary representations to some arbitrary chosen length and in so doing hide the bit length of the largest integer. It would be nice to figure out a way to implement the Lin encoding s.t. it does not care about the max binary length of the values that are compared."
   ]
  },
  {
   "cell_type": "code",
   "execution_count": null,
   "metadata": {},
   "outputs": [],
   "source": []
  }
 ],
 "metadata": {
  "kernelspec": {
   "display_name": "Python 3 (ipykernel)",
   "language": "python",
   "name": "python3"
  },
  "language_info": {
   "codemirror_mode": {
    "name": "ipython",
    "version": 3
   },
   "file_extension": ".py",
   "mimetype": "text/x-python",
   "name": "python",
   "nbconvert_exporter": "python",
   "pygments_lexer": "ipython3",
   "version": "3.9.7"
  }
 },
 "nbformat": 4,
 "nbformat_minor": 4
}
