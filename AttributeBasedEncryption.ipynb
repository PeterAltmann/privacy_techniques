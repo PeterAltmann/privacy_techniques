{
 "cells": [
  {
   "cell_type": "markdown",
   "metadata": {},
   "source": [
    "# Attribute Based Encryption\n",
    "\n",
    "[Source](https://medium.com/asecuritysite-when-bob-met-alice/towards-true-security-attribute-based-encryption-20d5799aeda6)\n",
    "\n",
    "[Source CP-ABE](https://hal.archives-ouvertes.fr/hal-01788815/document)\n",
    "\n",
    "[Another source](https://github.com/sagrawal87/ABE)\n",
    "\n",
    "[Charm](https://jhuisi.github.io/charm/)\n",
    "\n",
    "* Allows us to access data based on attributes such as location, profession, etc.\n",
    "* Embeds security into the data itself\n",
    "* Enables very fine grained access control based on attributes, e.g., $\\texttt{((user=A and location=state) or (user=Patient and location=hospital))}$\n",
    "* Two main types of ABE\n",
    " 1. Key-policy ABE (KP-ABE). Generate the key based on a policy that contains attributes.\n",
    " 2. Ciphertext-policy ABE (CP-ABE). Use a tree structure with different keys in order to access given attributes."
   ]
  },
  {
   "cell_type": "markdown",
   "metadata": {},
   "source": [
    "## Stages\n",
    "\n",
    "1. Setup. Setup generates the public parameters $PK$ and the master key $MK$\n",
    "2. $\\texttt{CT = Encrypt(PK,M,A)}$. Encrypt takes as input $PK$, a message $M$, and the access structure for all the attributes $A$ and generates a ciphertext $CT$.\n",
    "3. $\\texttt{SK = KeyGenerate(MK,S)}$. A key generation algorithm that takes as input the master key and a number of attributes that define the key $S$. It outputs the secret key $SK$.\n",
    "4. $\\texttt{M = Decrypt(SK,CT,PK)}$. Decrypt uses the public parameters, the ciphertext, and the secret key as input. Generates as output the plaintext message.\n",
    "5. $\\texttt{SK‘ = Delegate(SK,A‘)}$. Delegate takes as input the secret key and returns a new secret key for a given subset of attributes."
   ]
  },
  {
   "cell_type": "code",
   "execution_count": 66,
   "metadata": {},
   "outputs": [],
   "source": [
    "from ecpy.curves import Curve\n",
    "from Crypto.Util import number\n",
    "#import random\n",
    "# import numpy as np\n",
    "import math"
   ]
  },
  {
   "cell_type": "code",
   "execution_count": 2,
   "metadata": {},
   "outputs": [],
   "source": [
    "# Create a curve, get the generator point, and get the order of the curve\n",
    "curve = Curve.get_curve('secp256k1')\n",
    "G = curve.generator\n",
    "order = curve.order"
   ]
  },
  {
   "cell_type": "code",
   "execution_count": 3,
   "metadata": {},
   "outputs": [
    {
     "name": "stdout",
     "output_type": "stream",
     "text": [
      "Curve Generator is: (0x79be667ef9dcbbac55a06295ce870b07029bfcdb2dce28d959f2815b16f81798, 0x483ada7726a3c4655da4fbfc0e1108a8fd17b448a68554199c47d08ffb10d4b8)\n",
      "Subgroup order is: (0xfffffffffffffffffffffffffffffffebaaedce6af48a03bbfd25e8cd0364141)\n"
     ]
    }
   ],
   "source": [
    "print(\"Curve Generator is: (%s, %s)\" % (hex(G.x), hex(G.y)))\n",
    "print(\"Subgroup order is: (%s)\" % (hex(order)))"
   ]
  },
  {
   "cell_type": "markdown",
   "metadata": {},
   "source": [
    "## Bilinear mapping\n",
    "\n",
    "* We use two curves that create a third curve\n",
    "* With key pairing, we have to cyclic groups $(G_1, G_2)$ of order $n$ where \n",
    " 1. $n\\in\\mathbb{P}$\n",
    " 2. Generator $g_i$ generates $G_i$\n",
    "* A pairing on $(G_1, G_2, G_T)$ defines a function $e:G_1 \\times G_2 \\rightarrow G_T$\n",
    "* Points $(U_1, U_2) \\in G_1$ and $(V_1, V_2) \\in G_2$ generates a bilinear mapping of:\n",
    " * $e(U_1 + U_2, V_1) = e(U_1,V_1) \\times e(U_2,V_1)$\n",
    " * $e(U_1, V_1 + V_2) = e(U_1,V_1) \\times e(U_1,V_2)$\n",
    "* If $U \\in G_1$ and $V \\in G_2$, we have \n",
    " * $e(aU,bV) = e(U,V)^{ab} = e(bU,aV)$\n",
    " * $e(U^a,V^b) = e(U,V)^{ab}$"
   ]
  },
  {
   "cell_type": "code",
   "execution_count": 4,
   "metadata": {},
   "outputs": [
    {
     "data": {
      "text/plain": [
       "39374908924721287200656573837734599516929015365953498557843120870496628258415"
      ]
     },
     "execution_count": 4,
     "metadata": {},
     "output_type": "execute_result"
    }
   ],
   "source": [
    "pow(number.getRandomNBitInteger(128), -1, order)"
   ]
  },
  {
   "cell_type": "code",
   "execution_count": 49,
   "metadata": {},
   "outputs": [
    {
     "ename": "SyntaxError",
     "evalue": "invalid syntax (<ipython-input-49-d751c3787d5e>, line 1)",
     "output_type": "error",
     "traceback": [
      "\u001b[0;36m  File \u001b[0;32m\"<ipython-input-49-d751c3787d5e>\"\u001b[0;36m, line \u001b[0;32m1\u001b[0m\n\u001b[0;31m    https://github.com/jfdm/pyPEBEL\u001b[0m\n\u001b[0m          ^\u001b[0m\n\u001b[0;31mSyntaxError\u001b[0m\u001b[0;31m:\u001b[0m invalid syntax\n"
     ]
    }
   ],
   "source": [
    "https://github.com/jfdm/pyPEBEL"
   ]
  },
  {
   "cell_type": "code",
   "execution_count": null,
   "metadata": {},
   "outputs": [],
   "source": [
    "https://github.com/junwei-wang/cpabe/tree/0e71de17ed64729f2de811503a7958673691e77a"
   ]
  }
 ],
 "metadata": {
  "kernelspec": {
   "display_name": "Python 3",
   "language": "python",
   "name": "python3"
  },
  "language_info": {
   "codemirror_mode": {
    "name": "ipython",
    "version": 3
   },
   "file_extension": ".py",
   "mimetype": "text/x-python",
   "name": "python",
   "nbconvert_exporter": "python",
   "pygments_lexer": "ipython3",
   "version": "3.9.1"
  }
 },
 "nbformat": 4,
 "nbformat_minor": 4
}
